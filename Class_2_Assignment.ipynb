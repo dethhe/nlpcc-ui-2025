{
  "nbformat": 4,
  "nbformat_minor": 0,
  "metadata": {
    "colab": {
      "provenance": [],
      "include_colab_link": true
    },
    "kernelspec": {
      "name": "python3",
      "display_name": "Python 3"
    },
    "language_info": {
      "name": "python"
    }
  },
  "cells": [
    {
      "cell_type": "markdown",
      "metadata": {
        "id": "view-in-github",
        "colab_type": "text"
      },
      "source": [
        "<a href=\"https://colab.research.google.com/github/dethhe/nlpcc-ui-2025/blob/main/Class_2_Assignment.ipynb\" target=\"_parent\"><img src=\"https://colab.research.google.com/assets/colab-badge.svg\" alt=\"Open In Colab\"/></a>"
      ]
    },
    {
      "cell_type": "markdown",
      "source": [
        "# Eksplorasi Teks dengan Regex: Analisis Email Spam Indonesia\n",
        "\n",
        "Ini adalah notebook untuk tugas Class 2: Regex Explorations in Text Data. Kita akan menggunakan dataset \"Indonesian Email Spam\" (`email_spam_indo.csv`) untuk mengeksplorasi berbagai pola teks menggunakan Regular Expressions (Regex) dengan library `re` di Python.\n",
        "\n",
        "Untuk tugas eksplorasi Regular Expressions (Regex) ini, saya memilih dataset Indonesian Email Spam. Alasan utama pemilihan dataset ini adalah karena teks email seringkali mengandung berbagai pola yang dapat diekstraksi dan dianalisis secara efektif menggunakan Regex, seperti alamat email, nomor telepon, URL, dan frasa kunci tertentu yang dapat membantu membedakan antara email spam dan non-spam (ham).\n",
        "\n",
        "## 1. Setup Awal\n",
        "\n",
        "Pertama, kita akan mengimpor library yang diperlukan dan menghubungkan notebook ini ke Google Drive untuk mengakses dataset."
      ],
      "metadata": {
        "id": "TKoW3CeYurWz"
      }
    },
    {
      "cell_type": "code",
      "source": [
        "# Sel 1: Impor Library\n",
        "import pandas as pd\n",
        "import re  # Library untuk regular expressions\n",
        "from google.colab import drive\n",
        "import csv # Untuk opsi quoting jika diperlukan\n",
        "\n",
        "print(\"Libraries imported.\")"
      ],
      "metadata": {
        "colab": {
          "base_uri": "https://localhost:8080/"
        },
        "id": "-D5f93_w36sA",
        "outputId": "31b9f683-cb90-478c-c544-15c87d2761a7"
      },
      "execution_count": null,
      "outputs": [
        {
          "output_type": "stream",
          "name": "stdout",
          "text": [
            "Libraries imported.\n"
          ]
        }
      ]
    },
    {
      "cell_type": "markdown",
      "source": [
        "### 1.1 Hubungkan ke Google Drive\n",
        "\n",
        "Selanjutnya, kita akan me-mount Google Drive agar dapat mengakses file dataset."
      ],
      "metadata": {
        "id": "C9jgjicA4Vn1"
      }
    },
    {
      "cell_type": "code",
      "execution_count": null,
      "metadata": {
        "colab": {
          "base_uri": "https://localhost:8080/"
        },
        "id": "V5wqDmT_tR2-",
        "outputId": "259a19cd-748f-4fd7-d10a-829d51639abb"
      },
      "outputs": [
        {
          "output_type": "stream",
          "name": "stdout",
          "text": [
            "Drive already mounted at /content/drive; to attempt to forcibly remount, call drive.mount(\"/content/drive\", force_remount=True).\n",
            "Google Drive mounted successfully.\n"
          ]
        }
      ],
      "source": [
        "# Sel 2: Hubungkan ke Google Drive\n",
        "try:\n",
        "    drive.mount('/content/drive')\n",
        "    print(\"Google Drive mounted successfully.\")\n",
        "except Exception as e:\n",
        "    print(f\"Error saat mounting Google Drive: {e}\")\n",
        "    # Tidak perlu raise error jika sudah mounted, pandas akan gagal jika path salah\n",
        "    if \"already mounted\" in str(e).lower():\n",
        "        print(\"Drive already mounted.\")"
      ]
    },
    {
      "cell_type": "markdown",
      "source": [
        "## 2. Memuat dan Mempersiapkan Dataset\n",
        "\n",
        "Kita akan memuat dataset `email_spam_indo.csv` dari Google Drive. Kode di bawah ini mencakup beberapa strategi untuk menangani potensi masalah saat parsing file CSV.\n",
        "\n",
        "### 2.1 Definisi Path dan Pemuatan Dataset"
      ],
      "metadata": {
        "id": "_tlgKp5w4e1W"
      }
    },
    {
      "cell_type": "code",
      "source": [
        "# Sel 3: Definisi Path dan Pemuatan Dataset\n",
        "# --- SESUAIKAN PATH FILE ANDA DI GOOGLE DRIVE ---\n",
        "path_to_email_csv = '/content/drive/MyDrive/Dataset NLP/email_spam_indo.csv'\n",
        "# Pastikan path di atas sudah benar sesuai dengan lokasi file Anda di Google Drive.\n",
        "\n",
        "df_email = None\n",
        "print(f\"Mencoba memuat dataset dari: {path_to_email_csv}\")\n",
        "\n",
        "try:\n",
        "    print(\"Mencoba memuat dengan engine='python', on_bad_lines='skip'...\")\n",
        "    df_email = pd.read_csv(path_to_email_csv, engine='python', on_bad_lines='skip')\n",
        "    print(\"Dataset berhasil dimuat dengan engine='python' dan on_bad_lines='skip'.\")\n",
        "\n",
        "    if df_email.empty:\n",
        "        print(\"PERINGATAN: Dataframe kosong. Mencoba strategi lain.\")\n",
        "        df_email = None # Reset untuk percobaan berikutnya\n",
        "    elif len(df_email.columns) < 2:\n",
        "        print(f\"PERINGATAN: Dataframe hanya memiliki {len(df_email.columns)} kolom. Ini mungkin tidak benar. Kolom: {df_email.columns.tolist()}\")\n",
        "        df_email = None # Anggap gagal jika kolom terlalu sedikit\n",
        "\n",
        "except Exception as e_initial:\n",
        "    print(f\"Error pada percobaan awal dengan on_bad_lines='skip': {e_initial}\")\n",
        "    df_email = None\n",
        "\n",
        "if df_email is None: # Jika percobaan pertama gagal\n",
        "    print(\"\\nMencoba memuat dengan engine='python', quoting=csv.QUOTE_ALL, on_bad_lines='skip'...\")\n",
        "    try:\n",
        "        # Menggunakan quoting=csv.QUOTE_ALL bisa membantu jika ada masalah dengan quote dalam data\n",
        "        # on_bad_lines='skip' tetap digunakan untuk melewati baris yang benar-benar bermasalah\n",
        "        df_email = pd.read_csv(path_to_email_csv, engine='python', quoting=csv.QUOTE_ALL, on_bad_lines='skip')\n",
        "        print(\"Dataset berhasil dimuat dengan engine='python', quoting=csv.QUOTE_ALL, dan on_bad_lines='skip'.\")\n",
        "        if df_email.empty:\n",
        "            print(\"PERINGATAN: Dataframe kosong setelah percobaan dengan QUOTE_ALL.\")\n",
        "        elif len(df_email.columns) < 2:\n",
        "             print(f\"PERINGATAN: Dataframe dengan QUOTE_ALL hanya memiliki {len(df_email.columns)} kolom. Kolom: {df_email.columns.tolist()}\")\n",
        "             # Jika kolom masih sedikit, mungkin ada masalah fundamental dengan CSV atau path\n",
        "    except Exception as e_quote_all:\n",
        "        print(f\"Error saat memuat dengan QUOTE_ALL: {e_quote_all}\")\n",
        "        df_email = None # Gagal total\n",
        "\n",
        "# Cek final setelah semua percobaan\n",
        "if df_email is None:\n",
        "    print(\"\\nGAGAL MEMUAT DATASET setelah semua percobaan. Periksa path file dan integritas file CSV.\")\n",
        "elif df_email.empty:\n",
        "    print(\"\\nDataset berhasil dimuat tetapi KOSONG. Periksa isi file CSV Anda.\")\n",
        "else:\n",
        "    print(\"\\nDataset berhasil dimuat.\")"
      ],
      "metadata": {
        "colab": {
          "base_uri": "https://localhost:8080/"
        },
        "id": "yDHHNyI64jo5",
        "outputId": "fb7a2dcd-d0f5-4015-8b20-e370339e7160"
      },
      "execution_count": null,
      "outputs": [
        {
          "output_type": "stream",
          "name": "stdout",
          "text": [
            "Mencoba memuat dataset dari: /content/drive/MyDrive/Dataset NLP/email_spam_indo.csv\n",
            "Mencoba memuat dengan engine='python', on_bad_lines='skip'...\n",
            "Dataset berhasil dimuat dengan engine='python' dan on_bad_lines='skip'.\n",
            "\n",
            "Dataset berhasil dimuat.\n"
          ]
        }
      ]
    },
    {
      "cell_type": "markdown",
      "source": [
        "### 2.2 Inspeksi, Pembersihan, dan Penyesuaian Kolom\n",
        "\n",
        "Setelah dataset dimuat, kita akan melakukan inspeksi awal, mengganti nama kolom agar lebih standar, dan menangani nilai yang hilang."
      ],
      "metadata": {
        "id": "cyI39qxu4mbe"
      }
    },
    {
      "cell_type": "code",
      "source": [
        "# Sel 4: Inspeksi, Pembersihan, dan Penyesuaian Kolom\n",
        "if 'df_email' in globals() and df_email is not None and not df_email.empty:\n",
        "    print(\"\\n--- Informasi Awal Dataset ---\")\n",
        "    print(\"Nama kolom aktual:\", df_email.columns.tolist())\n",
        "    print(\"Beberapa baris pertama (head):\")\n",
        "    print(df_email.head())\n",
        "\n",
        "    # --- PENYESUAIAN NAMA KOLOM ---\n",
        "    if len(df_email.columns) >= 2:\n",
        "        kolom_label_aktual = df_email.columns[0]\n",
        "        kolom_teks_aktual = df_email.columns[1]\n",
        "\n",
        "        nama_kolom_label_baru = 'label'\n",
        "        nama_kolom_teks_baru = 'teks'\n",
        "\n",
        "        df_email.rename(columns={\n",
        "            kolom_label_aktual: nama_kolom_label_baru,\n",
        "            kolom_teks_aktual: nama_kolom_teks_baru\n",
        "        }, inplace=True)\n",
        "\n",
        "        print(\"\\n--- Setelah Rename Kolom ---\")\n",
        "        print(\"Nama kolom baru:\", df_email.columns.tolist())\n",
        "        print(\"Beberapa baris pertama (head) setelah rename:\")\n",
        "        print(df_email.head())\n",
        "\n",
        "        kolom_label = nama_kolom_label_baru\n",
        "        kolom_teks = nama_kolom_teks_baru\n",
        "\n",
        "        print(\"\\nInfo DataFrame setelah rename:\")\n",
        "        df_email.info()\n",
        "\n",
        "        print(f\"\\nJumlah nilai unik di kolom '{kolom_label}':\")\n",
        "        print(df_email[kolom_label].value_counts())\n",
        "\n",
        "        if df_email[kolom_label].dtype == 'object':\n",
        "            unique_labels = df_email[kolom_label].unique()\n",
        "            print(f\"Label unik sebelum mapping: {unique_labels}\")\n",
        "\n",
        "            label_map = {}\n",
        "            for ul in unique_labels:\n",
        "                if isinstance(ul, str):\n",
        "                    ul_lower = ul.lower() # Konversi ke lowercase untuk matching\n",
        "                    if 'spam' in ul_lower:\n",
        "                        label_map[ul] = 1\n",
        "                    elif 'ham' in ul_lower or 'non-spam' in ul_lower or 'bukan spam' in ul_lower:\n",
        "                        label_map[ul] = 0\n",
        "\n",
        "            if label_map:\n",
        "                print(f\"Mapping yang akan diterapkan: {label_map}\")\n",
        "                df_email[kolom_label] = df_email[kolom_label].map(label_map)\n",
        "                print(f\"\\nJumlah nilai unik di kolom '{kolom_label}' setelah mapping:\")\n",
        "                print(df_email[kolom_label].value_counts(dropna=False))\n",
        "            else:\n",
        "                print(\"Tidak dapat membuat mapping otomatis untuk label. Periksa nilai unik.\")\n",
        "\n",
        "        print(f\"\\nJumlah nilai kosong di kolom '{kolom_teks}' sebelum penanganan: {df_email[kolom_teks].isnull().sum()}\")\n",
        "        df_email.dropna(subset=[kolom_teks, kolom_label], inplace=True)\n",
        "        df_email[kolom_teks] = df_email[kolom_teks].astype(str)\n",
        "\n",
        "        # --- TAMBAHAN: Membersihkan trailing semicolons dari kolom 'teks' ---\n",
        "        print(f\"\\nMembersihkan trailing semicolons dari kolom '{kolom_teks}'...\")\n",
        "        df_email[kolom_teks] = df_email[kolom_teks].str.rstrip(';')\n",
        "        print(\"Pembersihan trailing semicolons selesai.\")\n",
        "        # --- AKHIR TAMBAHAN ---\n",
        "\n",
        "        print(f\"\\nJumlah nilai kosong di kolom '{kolom_teks}' setelah penanganan dan pembersihan: {df_email[kolom_teks].isnull().sum()}\")\n",
        "        print(f\"Jumlah nilai kosong di kolom '{kolom_label}' setelah penanganan: {df_email[kolom_label].isnull().sum()}\")\n",
        "\n",
        "        # Hapus baris di mana label mungkin menjadi NaN setelah mapping (jika ada label yang tidak dikenal)\n",
        "        df_email.dropna(subset=[kolom_label], inplace=True)\n",
        "        # Konversi kolom label ke integer jika berhasil dimapping\n",
        "        if pd.api.types.is_numeric_dtype(df_email[kolom_label]):\n",
        "             df_email[kolom_label] = df_email[kolom_label].astype(int)\n",
        "\n",
        "\n",
        "        print(f\"\\nTotal jumlah email yang akan dianalisis: {len(df_email)}\")\n",
        "\n",
        "        if not df_email.empty:\n",
        "            sample_email_text_from_df = df_email[kolom_teks].sample(1, random_state=42).iloc[0]\n",
        "            print(\"\\n--- Contoh Teks Email dari DataFrame (Setelah Pembersihan) ---\")\n",
        "            print(sample_email_text_from_df[:500] + \"...\" if len(sample_email_text_from_df) > 500 else sample_email_text_from_df)\n",
        "        else:\n",
        "            print(\"Dataframe kosong setelah membersihkan nilai NaN, tidak bisa mengambil contoh email.\")\n",
        "    else:\n",
        "        print(\"Dataset tidak memiliki cukup kolom untuk diproses (minimal 2 kolom diperlukan).\")\n",
        "\n",
        "elif df_email is not None and df_email.empty:\n",
        "    print(\"\\nDataset email berhasil dimuat tetapi KOSONG. Periksa file CSV Anda.\")\n",
        "else:\n",
        "    print(\"\\nDataset email GAGAL dimuat atau tidak terdefinisi. Tidak dapat melanjutkan.\")"
      ],
      "metadata": {
        "colab": {
          "base_uri": "https://localhost:8080/"
        },
        "id": "A2rGS8ss4nJU",
        "outputId": "dffef97d-3a54-4e51-954b-a12e17eefbd0"
      },
      "execution_count": null,
      "outputs": [
        {
          "output_type": "stream",
          "name": "stdout",
          "text": [
            "\n",
            "--- Informasi Awal Dataset ---\n",
            "Nama kolom aktual: ['label', 'teks']\n",
            "Beberapa baris pertama (head):\n",
            "   label                                               teks\n",
            "0      1  Simpan uang Anda beli untuk mendapatkan barang...\n",
            "1      1  Simpan uang Anda beli untuk mendapatkan barang...\n",
            "2      1  Simpan uang Anda beli untuk mendapatkan barang...\n",
            "3      1  Peringatan Keamanan - Konfirmasikan Informasi ...\n",
            "4      1  mengandalkan kami untuk pemesanan resep online...\n",
            "\n",
            "--- Setelah Rename Kolom ---\n",
            "Nama kolom baru: ['label', 'teks']\n",
            "Beberapa baris pertama (head) setelah rename:\n",
            "   label                                               teks\n",
            "0      1  Simpan uang Anda beli untuk mendapatkan barang...\n",
            "1      1  Simpan uang Anda beli untuk mendapatkan barang...\n",
            "2      1  Simpan uang Anda beli untuk mendapatkan barang...\n",
            "3      1  Peringatan Keamanan - Konfirmasikan Informasi ...\n",
            "4      1  mengandalkan kami untuk pemesanan resep online...\n",
            "\n",
            "Info DataFrame setelah rename:\n",
            "<class 'pandas.core.frame.DataFrame'>\n",
            "RangeIndex: 254 entries, 0 to 253\n",
            "Data columns (total 2 columns):\n",
            " #   Column  Non-Null Count  Dtype \n",
            "---  ------  --------------  ----- \n",
            " 0   label   254 non-null    int64 \n",
            " 1   teks    254 non-null    object\n",
            "dtypes: int64(1), object(1)\n",
            "memory usage: 4.1+ KB\n",
            "\n",
            "Jumlah nilai unik di kolom 'label':\n",
            "label\n",
            "1    181\n",
            "0     73\n",
            "Name: count, dtype: int64\n",
            "\n",
            "Jumlah nilai kosong di kolom 'teks' sebelum penanganan: 0\n",
            "\n",
            "Membersihkan trailing semicolons dari kolom 'teks'...\n",
            "Pembersihan trailing semicolons selesai.\n",
            "\n",
            "Jumlah nilai kosong di kolom 'teks' setelah penanganan dan pembersihan: 0\n",
            "Jumlah nilai kosong di kolom 'label' setelah penanganan: 0\n",
            "\n",
            "Total jumlah email yang akan dianalisis: 254\n",
            "\n",
            "--- Contoh Teks Email dari DataFrame (Setelah Pembersihan) ---\n",
            "Permintaan yang dikirimkan: Permintaan akses untuk Sandeep. kohli @ enron. com Anda telah menerima email ini karena pemohon menetapkan Anda sebagai manajer mereka. Silakan klik persetujuan untuk meninjau dan bertindak berdasarkan permintaan ini. ID Permintaan: 0000000000225312 Permintaan Buat Tanggal: 3/23/01 9: 52: 03 AM diminta untuk: Sandeep. kohli @ enron. Nama Sumber Daya COM: Visual Studio Enterprise Sumber Daya Jenis: Aplikasi\n"
          ]
        }
      ]
    },
    {
      "cell_type": "markdown",
      "source": [
        "## 3. Goal 1: Menemukan Alamat Email\n",
        "\n",
        "**Tujuan:** Mengidentifikasi semua alamat email yang valid dalam teks. Alamat email umumnya memiliki format `username@domain.ekstensi`. Kita akan mencoba beberapa variasi regex untuk menangkap format ini dengan lebih baik, termasuk menangani spasi yang mungkin muncul karena kesalahan OCR atau format yang tidak standar.\n",
        "\n",
        "### 3.1 Persiapan Contoh Teks Statis\n",
        "\n",
        "Untuk mengembangkan dan menguji variasi regex secara terkontrol, kita akan menggunakan beberapa contoh teks statis."
      ],
      "metadata": {
        "id": "-DXl3vgo5KYs"
      }
    },
    {
      "cell_type": "code",
      "source": [
        "# Sel 5: Persiapan Contoh Teks Statis untuk Pengujian Regex Awal\n",
        "static_test_text_spam = \"Contoh email spam: Menangkan hadiah! Kontak support@my-promo.info sekarang. Atau coba cs.promo@another.co.id. Jangan lewatkan! Info lebih lanjut di admin@website.com.\"\n",
        "static_test_text_ham = \"Permintaan Dikirim: Untuk Mark. Breese @ Enron. com. Pemberitahuan ke STINSON. Gibner @ Enron. com. Email resmi: official.contact@my-company.org. Ini bukan email: user@domain (tanpa tld) atau user@.com (tanpa domain).\"\n",
        "\n",
        "print(\"--- Contoh Teks SPAM (Statis) ---\")\n",
        "print(f\"{static_test_text_spam}\\n\")\n",
        "print(\"--- Contoh Teks HAM (Statis) ---\")\n",
        "print(f\"{static_test_text_ham}\\n\")\n",
        "\n",
        "# Kita akan menggunakan static_test_text_spam dan static_test_text_ham untuk demonstrasi variasi regex.\n",
        "test_text_spam = static_test_text_spam\n",
        "test_text_ham = static_test_text_ham\n",
        "\n",
        "print(\"Contoh teks statis siap digunakan.\")"
      ],
      "metadata": {
        "colab": {
          "base_uri": "https://localhost:8080/"
        },
        "id": "28N-Blzn5LRp",
        "outputId": "ef4fed20-445f-412c-8299-525f21280f4b"
      },
      "execution_count": null,
      "outputs": [
        {
          "output_type": "stream",
          "name": "stdout",
          "text": [
            "--- Contoh Teks SPAM (Statis) ---\n",
            "Contoh email spam: Menangkan hadiah! Kontak support@my-promo.info sekarang. Atau coba cs.promo@another.co.id. Jangan lewatkan! Info lebih lanjut di admin@website.com.\n",
            "\n",
            "--- Contoh Teks HAM (Statis) ---\n",
            "Permintaan Dikirim: Untuk Mark. Breese @ Enron. com. Pemberitahuan ke STINSON. Gibner @ Enron. com. Email resmi: official.contact@my-company.org. Ini bukan email: user@domain (tanpa tld) atau user@.com (tanpa domain).\n",
            "\n",
            "Contoh teks statis siap digunakan.\n"
          ]
        }
      ]
    },
    {
      "cell_type": "code",
      "source": [
        "# Sel 6: Implementasi Variasi Regex untuk Goal 1\n",
        "\n",
        "print(\"--- Menguji pada Contoh Email SPAM (Statis) ---\")\n",
        "print(f\"Teks Asli (SPAM):\\n{test_text_spam}\\n\")\n",
        "\n",
        "print(\"--- Menguji pada Contoh Email HAM (Statis) ---\")\n",
        "print(f\"Teks Asli (HAM):\\n{test_text_ham}\\n\")\n",
        "\n",
        "# Variasi 1: Pola Regex Sangat Dasar\n",
        "print(\"\\n--- Variasi 1: Pola Dasar (\\\\S+@\\\\S+\\\\.\\\\S+) ---\")\n",
        "regex_email_v1 = r\"\\S+@\\S+\\.\\S+\"\n",
        "# Penjelasan:\n",
        "# \\S+ : Satu atau lebih karakter non-whitespace.\n",
        "# @   : Karakter '@' literal.\n",
        "# \\.  : Karakter '.' literal (di-escape).\n",
        "# Sangat longgar, bisa menangkap string yang bukan email valid (misalnya, jika ada titik di akhir).\n",
        "matches_v1_spam = re.findall(regex_email_v1, test_text_spam)\n",
        "print(f\"Email ditemukan di teks SPAM (v1): {matches_v1_spam}\")\n",
        "matches_v1_ham = re.findall(regex_email_v1, test_text_ham)\n",
        "print(f\"Email ditemukan di teks HAM (v1): {matches_v1_ham}\") # Akan menangkap 'Breese@Enron.com.' dan 'Gibner@Enron.com.'\n",
        "\n",
        "# Variasi 2: Pola Lebih Spesifik untuk Karakter Username, Domain, dan TLD\n",
        "print(\"\\n--- Variasi 2: Pola Lebih Spesifik ([a-zA-Z0-9._-]+@[a-zA-Z0-9-]+\\\\.[a-zA-Z]{2,}) ---\")\n",
        "regex_email_v2 = r\"[a-zA-Z0-9._-]+@[a-zA-Z0-9-]+\\.[a-zA-Z]{2,}\"\n",
        "# Penjelasan:\n",
        "# [a-zA-Z0-9._-]+ : Username (huruf, angka, ., _, -).\n",
        "# @                 : Karakter '@' literal.\n",
        "# [a-zA-Z0-9-]+    : Domain name (tanpa TLD). Terdiri dari huruf, angka, atau tanda hubung.\n",
        "# \\.                : Karakter '.' literal.\n",
        "# [a-zA-Z]{2,}      : Top-Level Domain (TLD). Terdiri dari minimal 2 huruf.\n",
        "# Lebih ketat, mengurangi false positives seperti titik di akhir, tapi belum menangani spasi.\n",
        "matches_v2_spam = re.findall(regex_email_v2, test_text_spam)\n",
        "print(f\"Email ditemukan di teks SPAM (v2): {matches_v2_spam}\")\n",
        "matches_v2_ham = re.findall(regex_email_v2, test_text_ham)\n",
        "print(f\"Email ditemukan di teks HAM (v2): {matches_v2_ham}\") # Tidak akan menemukan email dengan spasi\n",
        "\n",
        "# Variasi 3: Menangani Subdomain dan Karakter Tambahan di Username\n",
        "print(\"\\n--- Variasi 3: Menangani Subdomain & Karakter Tambahan ([a-zA-Z0-9._%+-]+@[a-zA-Z0-9.-]+\\\\.[a-zA-Z]{2,}) ---\")\n",
        "regex_email_v3 = r\"[a-zA-Z0-9._%+-]+@[a-zA-Z0-9.-]+\\.[a-zA-Z]{2,}\"\n",
        "# Penjelasan:\n",
        "# [a-zA-Z0-9._%+-]+ : Username diperluas untuk mencakup '%' dan '+'.\n",
        "# @                  : Karakter '@' literal.\n",
        "# [a-zA-Z0-9.-]+     : Domain name. Sekarang memperbolehkan titik (untuk subdomain, misal mail.google.com) dan tanda hubung.\n",
        "# \\.                 : Karakter '.' literal.\n",
        "# [a-zA-Z]{2,}       : TLD, minimal 2 huruf.\n",
        "# Lebih fleksibel untuk format email yang lebih kompleks, tapi masih belum menangani spasi.\n",
        "matches_v3_spam = re.findall(regex_email_v3, test_text_spam)\n",
        "print(f\"Email ditemukan di teks SPAM (v3): {matches_v3_spam}\")\n",
        "matches_v3_ham = re.findall(regex_email_v3, test_text_ham)\n",
        "print(f\"Email ditemukan di teks HAM (v3): {matches_v3_ham}\") # Tidak akan menemukan email dengan spasi\n",
        "\n",
        "# Variasi 4: Menangani Spasi Opsional di Sekitar '@' dan '.' (sering terjadi pada teks yang diekstrak)\n",
        "print(\"\\n--- Variasi 4: Menangani Spasi Opsional ([a-zA-Z0-9._%+-]+\\\\s*@\\\\s*[a-zA-Z0-9.-]+\\\\s*\\\\.\\\\s*[a-zA-Z]{2,}) ---\")\n",
        "regex_email_v4_match_full = r\"[a-zA-Z0-9._%+-]+\\s*@\\s*[a-zA-Z0-9.-]+\\s*\\.\\s*[a-zA-Z]{2,}\"\n",
        "# Penjelasan:\n",
        "# \\s* : Nol atau lebih karakter whitespace (spasi, tab, newline).\n",
        "# Ditambahkan di sekitar '@' dan sebelum TLD.\n",
        "# Hasilnya akan mengandung spasi, jadi perlu dibersihkan setelahnya.\n",
        "matches_v4_spam_raw = re.findall(regex_email_v4_match_full, test_text_spam)\n",
        "cleaned_matches_v4_spam = [re.sub(r'\\s+', '', email).lower() for email in matches_v4_spam_raw]\n",
        "print(f\"Email ditemukan di teks SPAM (v4, raw): {matches_v4_spam_raw}\")\n",
        "print(f\"Email ditemukan di teks SPAM (v4, dibersihkan, lowercase): {cleaned_matches_v4_spam}\")\n",
        "\n",
        "matches_v4_ham_raw = re.findall(regex_email_v4_match_full, test_text_ham)\n",
        "cleaned_matches_v4_ham = [re.sub(r'\\s+', '', email).lower() for email in matches_v4_ham_raw]\n",
        "print(f\"Email ditemukan di teks HAM (v4, raw): {matches_v4_ham_raw}\")\n",
        "print(f\"Email ditemukan di teks HAM (v4, dibersihkan, lowercase): {cleaned_matches_v4_ham}\")\n",
        "\n",
        "# Variasi 5: TLD lebih ketat, case-insensitive flag, dan negative lookahead\n",
        "print(\"\\n--- Variasi 5: TLD lebih ketat (2-6 char), case-insensitive, spasi, negative lookahead ---\")\n",
        "regex_email_v5 = r\"[a-z0-9._%+-]+\\s*@\\s*[a-z0-9.-]+\\s*\\.\\s*[a-z]{2,6}(?![a-z0-9@])\"\n",
        "# Penjelasan:\n",
        "# [a-z0-9._%+-]+ : Username (huruf kecil karena re.IGNORECASE akan menangani huruf besar).\n",
        "# \\s*@\\s*          : '@' dengan spasi opsional.\n",
        "# [a-z0-9.-]+     : Domain (huruf kecil). Harus mengandung setidaknya satu karakter sebelum titik TLD.\n",
        "# \\s*\\.\\s*        : '.' dengan spasi opsional.\n",
        "# [a-z]{2,6}      : TLD, 2 hingga 6 huruf (misal, .com, .info, .museum).\n",
        "# (?![a-z0-9@])   : Negative lookahead. Memastikan bahwa karakter setelah TLD bukanlah huruf, angka, atau '@'.\n",
        "#                   Ini membantu menghindari pencocokan parsial seperti 'user@domain.comName' atau 'user@domain.com@'.\n",
        "# re.IGNORECASE   : Membuat seluruh pola menjadi case-insensitive.\n",
        "# Perbaikan pada domain: [a-z0-9.-]*[a-z0-9] untuk memastikan domain tidak berakhir dengan titik atau strip.\n",
        "# Namun, untuk email, [a-z0-9.-]+ sudah cukup baik karena TLD akan memvalidasi bagian akhir.\n",
        "# Yang penting adalah domain tidak boleh kosong, jadi [a-z0-9.-]+ sudah benar.\n",
        "# Untuk username, juga tidak boleh kosong.\n",
        "\n",
        "matches_v5_spam_raw = re.findall(regex_email_v5, test_text_spam, re.IGNORECASE)\n",
        "cleaned_matches_v5_spam = [re.sub(r'\\s+', '', email).lower() for email in matches_v5_spam_raw]\n",
        "print(f\"Email ditemukan di teks SPAM (v5, dibersihkan, lowercase): {cleaned_matches_v5_spam}\")\n",
        "\n",
        "matches_v5_ham_raw = re.findall(regex_email_v5, test_text_ham, re.IGNORECASE)\n",
        "cleaned_matches_v5_ham = [re.sub(r'\\s+', '', email).lower() for email in matches_v5_ham_raw]\n",
        "print(f\"Email ditemukan di teks HAM (v5, dibersihkan, lowercase): {cleaned_matches_v5_ham}\") # Seharusnya menangkap email dengan spasi dan tidak menangkap yang tidak valid\n",
        "\n",
        "print(\"\\nVariasi regex untuk Goal 1 selesai dieksekusi.\")"
      ],
      "metadata": {
        "colab": {
          "base_uri": "https://localhost:8080/"
        },
        "id": "zVYdl4VS5Wpg",
        "outputId": "d7fcb8c0-2826-40ad-c655-f8b196e9728f"
      },
      "execution_count": null,
      "outputs": [
        {
          "output_type": "stream",
          "name": "stdout",
          "text": [
            "--- Menguji pada Contoh Email SPAM (Statis) ---\n",
            "Teks Asli (SPAM):\n",
            "Contoh email spam: Menangkan hadiah! Kontak support@my-promo.info sekarang. Atau coba cs.promo@another.co.id. Jangan lewatkan! Info lebih lanjut di admin@website.com.\n",
            "\n",
            "--- Menguji pada Contoh Email HAM (Statis) ---\n",
            "Teks Asli (HAM):\n",
            "Permintaan Dikirim: Untuk Mark. Breese @ Enron. com. Pemberitahuan ke STINSON. Gibner @ Enron. com. Email resmi: official.contact@my-company.org. Ini bukan email: user@domain (tanpa tld) atau user@.com (tanpa domain).\n",
            "\n",
            "\n",
            "--- Variasi 1: Pola Dasar (\\S+@\\S+\\.\\S+) ---\n",
            "Email ditemukan di teks SPAM (v1): ['support@my-promo.info', 'cs.promo@another.co.id.', 'admin@website.com.']\n",
            "Email ditemukan di teks HAM (v1): ['official.contact@my-company.org.']\n",
            "\n",
            "--- Variasi 2: Pola Lebih Spesifik ([a-zA-Z0-9._-]+@[a-zA-Z0-9-]+\\.[a-zA-Z]{2,}) ---\n",
            "Email ditemukan di teks SPAM (v2): ['support@my-promo.info', 'cs.promo@another.co', 'admin@website.com']\n",
            "Email ditemukan di teks HAM (v2): ['official.contact@my-company.org']\n",
            "\n",
            "--- Variasi 3: Menangani Subdomain & Karakter Tambahan ([a-zA-Z0-9._%+-]+@[a-zA-Z0-9.-]+\\.[a-zA-Z]{2,}) ---\n",
            "Email ditemukan di teks SPAM (v3): ['support@my-promo.info', 'cs.promo@another.co.id', 'admin@website.com']\n",
            "Email ditemukan di teks HAM (v3): ['official.contact@my-company.org']\n",
            "\n",
            "--- Variasi 4: Menangani Spasi Opsional ([a-zA-Z0-9._%+-]+\\s*@\\s*[a-zA-Z0-9.-]+\\s*\\.\\s*[a-zA-Z]{2,}) ---\n",
            "Email ditemukan di teks SPAM (v4, raw): ['support@my-promo.info', 'cs.promo@another.co.id. Jangan', 'admin@website.com']\n",
            "Email ditemukan di teks SPAM (v4, dibersihkan, lowercase): ['support@my-promo.info', 'cs.promo@another.co.id.jangan', 'admin@website.com']\n",
            "Email ditemukan di teks HAM (v4, raw): ['Breese @ Enron. com', 'Gibner @ Enron. com', 'official.contact@my-company.org. Ini']\n",
            "Email ditemukan di teks HAM (v4, dibersihkan, lowercase): ['breese@enron.com', 'gibner@enron.com', 'official.contact@my-company.org.ini']\n",
            "\n",
            "--- Variasi 5: TLD lebih ketat (2-6 char), case-insensitive, spasi, negative lookahead ---\n",
            "Email ditemukan di teks SPAM (v5, dibersihkan, lowercase): ['support@my-promo.info', 'cs.promo@another.co.id.jangan', 'admin@website.com']\n",
            "Email ditemukan di teks HAM (v5, dibersihkan, lowercase): ['breese@enron.com', 'gibner@enron.com', 'official.contact@my-company.org.ini']\n",
            "\n",
            "Variasi regex untuk Goal 1 selesai dieksekusi.\n"
          ]
        }
      ]
    },
    {
      "cell_type": "markdown",
      "source": [
        "### 3.3 Penerapan Regex Terbaik pada Sampel dari Dataset\n",
        "\n",
        "Sekarang, kita akan menerapkan regex terbaik (Variasi 5) pada beberapa sampel email dari dataset `df_email` yang telah dimuat dan dibersihkan."
      ],
      "metadata": {
        "id": "H9C4JegZ5aAn"
      }
    },
    {
      "cell_type": "code",
      "source": [
        "# Sel 7: Menerapkan Regex v5 pada Sampel dari DataFrame\n",
        "print(\"\\n--- Menerapkan Regex v5 pada Sampel Dataset ---\")\n",
        "\n",
        "# Pastikan df_email ada, tidak kosong, dan memiliki kolom yang diperlukan\n",
        "# dan regex_email_v5 sudah terdefinisi dari Sel 6\n",
        "if ('df_email' in globals() and df_email is not None and not df_email.empty and\n",
        "    'kolom_teks' in globals() and kolom_teks in df_email.columns and\n",
        "    'kolom_label' in globals() and kolom_label in df_email.columns and\n",
        "    'regex_email_v5' in globals()):\n",
        "\n",
        "    all_emails_found_v5_df = {}\n",
        "\n",
        "    # Ambil 10 sampel acak jika dataset besar, atau head(10) jika kecil\n",
        "    # Ini untuk demonstrasi, Anda bisa memproses seluruh DataFrame jika diinginkan\n",
        "    num_samples = min(10, len(df_email))\n",
        "    sample_df = df_email.sample(n=num_samples, random_state=42) if len(df_email) > num_samples else df_email.head(num_samples)\n",
        "\n",
        "    print(f\"Menganalisis {len(sample_df)} sampel email dari DataFrame...\")\n",
        "\n",
        "    for index, row in sample_df.iterrows():\n",
        "        # Pastikan mengambil dari kolom 'teks' yang benar\n",
        "        email_text_content = str(row[kolom_teks])\n",
        "        label_val = row[kolom_label]\n",
        "\n",
        "        # Terapkan regex_email_v5\n",
        "        found_in_this_email_raw = re.findall(regex_email_v5, email_text_content, re.IGNORECASE)\n",
        "\n",
        "        if found_in_this_email_raw:\n",
        "            # Bersihkan dan simpan email unik\n",
        "            cleaned_emails = list(set([re.sub(r'\\s+', '', email).lower() for email in found_in_this_email_raw]))\n",
        "            if cleaned_emails: # Hanya simpan jika ada email setelah dibersihkan\n",
        "                 all_emails_found_v5_df[f\"Email Index {index} (Label: {label_val})\"] = cleaned_emails\n",
        "\n",
        "    if all_emails_found_v5_df:\n",
        "        print(\"\\nEmail yang ditemukan dalam sampel DataFrame menggunakan regex_email_v5:\")\n",
        "        for text_source, emails_found in all_emails_found_v5_df.items():\n",
        "            print(f\"Di {text_source}: {emails_found}\")\n",
        "    else:\n",
        "        print(\"\\nTidak ada email ditemukan dalam sampel DataFrame dengan regex_email_v5.\")\n",
        "else:\n",
        "    print(\"\\nGAGAL menjalankan analisis pada DataFrame.\")\n",
        "    if 'df_email' not in globals() or df_email is None or df_email.empty:\n",
        "        print(\"- DataFrame 'df_email' tidak tersedia atau kosong.\")\n",
        "    if 'kolom_teks' not in globals() or ('df_email' in globals() and df_email is not None and kolom_teks not in df_email.columns):\n",
        "        print(\"- Kolom 'teks' (variabel 'kolom_teks') tidak terdefinisi atau tidak ada di DataFrame.\")\n",
        "    if 'kolom_label' not in globals() or ('df_email' in globals() and df_email is not None and kolom_label not in df_email.columns):\n",
        "        print(\"- Kolom 'label' (variabel 'kolom_label') tidak terdefinisi atau tidak ada di DataFrame.\")\n",
        "    if 'regex_email_v5' not in globals():\n",
        "        print(\"- Variabel 'regex_email_v5' tidak terdefinisi. Pastikan Sel 6 sudah dijalankan.\")\n",
        "\n",
        "print(\"\\nPenerapan regex pada sampel DataFrame selesai.\")"
      ],
      "metadata": {
        "colab": {
          "base_uri": "https://localhost:8080/"
        },
        "id": "v91fHnn15a98",
        "outputId": "acbc1c68-c9c2-4088-ecd9-f430287b2d4c"
      },
      "execution_count": null,
      "outputs": [
        {
          "output_type": "stream",
          "name": "stdout",
          "text": [
            "\n",
            "--- Menerapkan Regex v5 pada Sampel Dataset ---\n",
            "Menganalisis 10 sampel email dari DataFrame...\n",
            "\n",
            "Email yang ditemukan dalam sampel DataFrame menggunakan regex_email_v5:\n",
            "Di Email Index 190 (Label: 0): ['kohli@enron.nama', 'kohli@enron.com']\n",
            "Di Email Index 79 (Label: 1): ['enrico@inwind.dia']\n",
            "Di Email Index 205 (Label: 0): ['gibner@enron.com', 'range@enron.com', 'range@enron.nama']\n",
            "Di Email Index 167 (Label: 1): ['jm@netnoteinc.com']\n",
            "\n",
            "Penerapan regex pada sampel DataFrame selesai.\n"
          ]
        }
      ]
    },
    {
      "cell_type": "markdown",
      "source": [
        "## 4. Goal 2: Menemukan Nomor Telepon\n",
        "\n",
        "**Tujuan:** Mengidentifikasi nomor telepon dalam berbagai format yang mungkin muncul di teks email. Nomor telepon bisa memiliki format dengan tanda hubung, spasi, tanda kurung, atau kode negara.\n",
        "\n",
        "### 4.1 Persiapan Contoh Teks Statis untuk Goal 2\n",
        "\n",
        "Kita akan siapkan beberapa contoh teks yang mengandung variasi format nomor telepon."
      ],
      "metadata": {
        "id": "8J1oKf4U5z2c"
      }
    },
    {
      "cell_type": "code",
      "source": [
        "# Sel 8: Persiapan Contoh Teks Statis untuk Goal 2\n",
        "static_text_phones_1 = \"Hubungi kami di 0812-3456-7890 atau +62 812 3456 7891. Ada juga (021) 555-1234.\"\n",
        "static_text_phones_2 = \"Kontak darurat: 085678901234 (tanpa spasi/strip). Promo call 0800-1-800-900. Nomor kantor: +6221-5551235 ext. 123.\"\n",
        "static_text_phones_3 = \"Ini bukan nomor: 12345 atau 081-234-567 (terlalu pendek). Nomor valid: 0812345678901 (13 digit). Nomor internasional +1-555-123-4567.\"\n",
        "static_text_no_phones = \"Email ini tidak berisi nomor telepon, hanya teks biasa dan alamat email info@example.com.\"\n",
        "\n",
        "print(\"--- Contoh Teks dengan Nomor Telepon (1) ---\")\n",
        "print(f\"{static_text_phones_1}\\n\")\n",
        "print(\"--- Contoh Teks dengan Nomor Telepon (2) ---\")\n",
        "print(f\"{static_text_phones_2}\\n\")\n",
        "print(\"--- Contoh Teks dengan Nomor Telepon (3) ---\")\n",
        "print(f\"{static_text_phones_3}\\n\")\n",
        "print(\"--- Contoh Teks Tanpa Nomor Telepon ---\")\n",
        "print(f\"{static_text_no_phones}\\n\")\n",
        "\n",
        "print(\"Contoh teks statis untuk Goal 2 (Nomor Telepon) siap digunakan.\")"
      ],
      "metadata": {
        "colab": {
          "base_uri": "https://localhost:8080/"
        },
        "id": "K5sv7jRg50cZ",
        "outputId": "fc4b0127-0bed-455e-9950-7f1e006bd379"
      },
      "execution_count": null,
      "outputs": [
        {
          "output_type": "stream",
          "name": "stdout",
          "text": [
            "--- Contoh Teks dengan Nomor Telepon (1) ---\n",
            "Hubungi kami di 0812-3456-7890 atau +62 812 3456 7891. Ada juga (021) 555-1234.\n",
            "\n",
            "--- Contoh Teks dengan Nomor Telepon (2) ---\n",
            "Kontak darurat: 085678901234 (tanpa spasi/strip). Promo call 0800-1-800-900. Nomor kantor: +6221-5551235 ext. 123.\n",
            "\n",
            "--- Contoh Teks dengan Nomor Telepon (3) ---\n",
            "Ini bukan nomor: 12345 atau 081-234-567 (terlalu pendek). Nomor valid: 0812345678901 (13 digit). Nomor internasional +1-555-123-4567.\n",
            "\n",
            "--- Contoh Teks Tanpa Nomor Telepon ---\n",
            "Email ini tidak berisi nomor telepon, hanya teks biasa dan alamat email info@example.com.\n",
            "\n",
            "Contoh teks statis untuk Goal 2 (Nomor Telepon) siap digunakan.\n"
          ]
        }
      ]
    },
    {
      "cell_type": "markdown",
      "source": [
        "### 4.2 Variasi Pola Regex untuk Menemukan Nomor Telepon\n",
        "\n",
        "Kita akan mencoba beberapa variasi regex untuk menangkap format nomor telepon yang beragam."
      ],
      "metadata": {
        "id": "1j2e7sJb593U"
      }
    },
    {
      "cell_type": "code",
      "source": [
        "# Sel 9: Implementasi Variasi Regex untuk Goal 2 - Menemukan Nomor Telepon\n",
        "\n",
        "# Menggunakan contoh teks yang sudah disiapkan di Sel 8\n",
        "texts_to_test_phones = {\n",
        "    \"Telepon Set 1\": static_text_phones_1,\n",
        "    \"Telepon Set 2\": static_text_phones_2,\n",
        "    \"Telepon Set 3\": static_text_phones_3,\n",
        "    \"Tanpa Telepon\": static_text_no_phones\n",
        "}\n",
        "\n",
        "print(\"--- Menguji Variasi Regex Nomor Telepon ---\")\n",
        "\n",
        "# Variasi 1: Pola Dasar (Urutan digit dengan panjang tertentu)\n",
        "print(\"\\n--- Variasi 1: Urutan digit (minimal 7-15 digit) ---\")\n",
        "regex_phone_v1 = r\"\\b\\d{7,15}\\b\"\n",
        "# Penjelasan:\n",
        "# \\b : Batas kata (word boundary), untuk memastikan kita tidak mengambil bagian dari angka yang lebih besar.\n",
        "# \\d{7,15} : Mencocokkan 7 hingga 15 digit angka. Ini adalah asumsi umum panjang nomor telepon.\n",
        "# Pola ini sangat sederhana dan hanya akan menangkap nomor yang ditulis tanpa spasi atau simbol.\n",
        "for name, text in texts_to_test_phones.items():\n",
        "    matches = re.findall(regex_phone_v1, text)\n",
        "    print(f\"Di '{name}': {matches}\")\n",
        "\n",
        "# Variasi 2: Memperbolehkan spasi dan tanda hubung (-)\n",
        "print(\"\\n--- Variasi 2: Digit dengan spasi atau tanda hubung opsional ---\")\n",
        "regex_phone_v2 = r\"\\b(?:\\d[ -]?){6,14}\\d\\b\"\n",
        "# Penjelasan:\n",
        "# (?:\\d[ -]?) : Grup non-penangkap (non-capturing group).\n",
        "#   \\d         : Satu digit.\n",
        "#   [ -]?     : Spasi atau tanda hubung, opsional (muncul 0 atau 1 kali).\n",
        "# {6,14}       : Grup sebelumnya diulang 6 hingga 14 kali.\n",
        "# \\d           : Diakhiri dengan satu digit (untuk memastikan total digit).\n",
        "# Totalnya akan mencocokkan sekitar 7 hingga 15 digit, dengan spasi/hubung di antaranya.\n",
        "# Ini lebih fleksibel tetapi bisa lebih longgar.\n",
        "for name, text in texts_to_test_phones.items():\n",
        "    matches_raw = re.findall(regex_phone_v2, text)\n",
        "    # Membersihkan hasil untuk hanya mendapatkan digit\n",
        "    cleaned_matches = [re.sub(r\"[^0-9]\", \"\", m) for m in matches_raw]\n",
        "    print(f\"Di '{name}': {matches_raw} -> Dibersihkan: {cleaned_matches}\")\n",
        "\n",
        "\n",
        "# Variasi 3: Menangani kode negara opsional (+XX) dan tanda kurung untuk kode area\n",
        "print(\"\\n--- Variasi 3: Kode negara opsional, tanda kurung, spasi, hubung ---\")\n",
        "regex_phone_v3 = r\"\\b(?:\\+\\d{1,3}[ -]?)?(?:\\(\\d{2,4}\\)[ -]?)?(?:\\d[ -]?){5,12}\\d\\b\"\n",
        "# Penjelasan:\n",
        "# (?:\\+\\d{1,3}[ -]?)? : Kode negara opsional (e.g., +62, +1), diikuti spasi/hubung opsional.\n",
        "#   \\+                 : Tanda '+' literal.\n",
        "#   \\d{1,3}            : 1 hingga 3 digit untuk kode negara.\n",
        "#   [ -]?             : Spasi atau hubung opsional.\n",
        "#   (...)?             : Seluruh grup kode negara ini opsional.\n",
        "# (?:\\(\\d{2,4}\\)[ -]?)? : Kode area dalam kurung opsional (e.g., (021)), diikuti spasi/hubung opsional.\n",
        "#   \\(\\d{2,4}\\)        : Digit dalam kurung.\n",
        "#   [ -]?             : Spasi atau hubung opsional.\n",
        "#   (...)?             : Seluruh grup kode area ini opsional.\n",
        "# (?:\\d[ -]?){5,12}\\d : Bagian utama nomor, mirip v2, tapi panjangnya disesuaikan.\n",
        "#                       Minimal 5 pengulangan + 1 digit akhir = 6 digit. Maksimal 12+1 = 13 digit.\n",
        "#                       Ini untuk sisa nomor setelah kode negara/area.\n",
        "for name, text in texts_to_test_phones.items():\n",
        "    matches_raw = re.findall(regex_phone_v3, text)\n",
        "    cleaned_matches = [re.sub(r\"[^0-9+]\", \"\", m) for m in matches_raw] # Simpan '+' jika ada\n",
        "    # Filter tambahan untuk panjang digit setelah dibersihkan (misal, minimal 7 digit)\n",
        "    final_matches = [m for m in cleaned_matches if len(re.sub(r\"\\D\", \"\", m)) >= 7]\n",
        "    print(f\"Di '{name}': {matches_raw} -> Dibersihkan & Difilter: {final_matches}\")\n",
        "\n",
        "# Variasi 4: Lebih komprehensif dengan lookarounds untuk menghindari pencocokan parsial dan ekstensi (basic)\n",
        "print(\"\\n--- Variasi 4: Lebih komprehensif, menghindari ekstensi sederhana ---\")\n",
        "# Regex ini akan menjadi lebih kompleks. Kita fokus pada struktur nomor utama.\n",
        "# Menghindari ekstensi sederhana seperti \"ext. 123\" adalah sulit dengan satu regex findall\n",
        "# tanpa menangkap ekstensi itu sendiri atau menggunakan grup yang lebih rumit.\n",
        "# Untuk saat ini, kita akan fokus pada nomor inti dan mungkin sedikit memperketat batasan.\n",
        "regex_phone_v4 = r\"(?<!\\d)(?:\\+\\d{1,3}\\s?)?(?:\\(\\s*\\d{2,4}\\s*\\)\\s?)?(?:\\d(?:\\s|-)?){6,13}\\d(?!\\s?(?:ext|x|extension)\\b|\\d)\"\n",
        "# Penjelasan:\n",
        "# (?<!\\d) : Negative lookbehind, memastikan tidak ada digit sebelum nomor (mencegah pencocokan dari tengah angka besar).\n",
        "# (?:\\+\\d{1,3}\\s?)? : Kode negara opsional (e.g., +62), spasi opsional.\n",
        "# (?:\\(\\s*\\d{2,4}\\s*\\)\\s?)? : Kode area dalam kurung opsional (e.g., (021)), spasi opsional di dalam dan luar kurung.\n",
        "# (?:\\d(?:\\s|-)?){6,13}\\d : Bagian utama nomor, 7-14 digit dengan spasi/hubung opsional.\n",
        "# (?!\\s?(?:ext|x|extension)\\b|\\d) : Negative lookahead.\n",
        "#   Memastikan nomor TIDAK diikuti oleh:\n",
        "#     \\s?(?:ext|x|extension)\\b : Kata \"ext\", \"x\", atau \"extension\" (dengan spasi opsional sebelumnya).\n",
        "#     |\\d                       : Atau digit lain (mencegah pencocokan jika nomor adalah bagian dari angka yang lebih panjang).\n",
        "# Ini mencoba untuk tidak mengambil nomor jika diikuti langsung oleh indikasi ekstensi atau digit lain.\n",
        "for name, text in texts_to_test_phones.items():\n",
        "    matches_raw = re.findall(regex_phone_v4, text)\n",
        "    cleaned_matches = [re.sub(r\"[^0-9+]\", \"\", m).strip() for m in matches_raw]\n",
        "    final_matches = [m for m in cleaned_matches if len(re.sub(r\"\\D\", \"\", m)) >= 7 and len(re.sub(r\"\\D\", \"\", m)) <= 15]\n",
        "    print(f\"Di '{name}': {matches_raw} -> Dibersihkan & Difilter: {final_matches}\")\n",
        "\n",
        "print(\"\\nVariasi regex untuk Goal 2 (Nomor Telepon) selesai dieksekusi.\")"
      ],
      "metadata": {
        "colab": {
          "base_uri": "https://localhost:8080/"
        },
        "id": "_Hs-08Cb5-e6",
        "outputId": "915e2bf5-6eb8-4e84-f6dd-c5c56a5fc376"
      },
      "execution_count": null,
      "outputs": [
        {
          "output_type": "stream",
          "name": "stdout",
          "text": [
            "--- Menguji Variasi Regex Nomor Telepon ---\n",
            "\n",
            "--- Variasi 1: Urutan digit (minimal 7-15 digit) ---\n",
            "Di 'Telepon Set 1': []\n",
            "Di 'Telepon Set 2': ['085678901234', '5551235']\n",
            "Di 'Telepon Set 3': ['0812345678901']\n",
            "Di 'Tanpa Telepon': []\n",
            "\n",
            "--- Variasi 2: Digit dengan spasi atau tanda hubung opsional ---\n",
            "Di 'Telepon Set 1': ['0812-3456-7890', '62 812 3456 7891', '555-1234'] -> Dibersihkan: ['081234567890', '6281234567891', '5551234']\n",
            "Di 'Telepon Set 2': ['085678901234', '0800-1-800-900', '6221-5551235'] -> Dibersihkan: ['085678901234', '08001800900', '62215551235']\n",
            "Di 'Telepon Set 3': ['081-234-567', '0812345678901', '1-555-123-4567'] -> Dibersihkan: ['081234567', '0812345678901', '15551234567']\n",
            "Di 'Tanpa Telepon': [] -> Dibersihkan: []\n",
            "\n",
            "--- Variasi 3: Kode negara opsional, tanda kurung, spasi, hubung ---\n",
            "Di 'Telepon Set 1': ['0812-3456-7890', '62 812 3456 7891', '555-1234'] -> Dibersihkan & Difilter: ['081234567890', '6281234567891', '5551234']\n",
            "Di 'Telepon Set 2': ['085678901234', '0800-1-800-900', '6221-5551235'] -> Dibersihkan & Difilter: ['085678901234', '08001800900', '62215551235']\n",
            "Di 'Telepon Set 3': ['081-234-567', '0812345678901', '1-555-123-4567'] -> Dibersihkan & Difilter: ['081234567', '0812345678901', '15551234567']\n",
            "Di 'Tanpa Telepon': [] -> Dibersihkan & Difilter: []\n",
            "\n",
            "--- Variasi 4: Lebih komprehensif, menghindari ekstensi sederhana ---\n",
            "Di 'Telepon Set 1': ['0812-3456-7890', '+62 812 3456 7891', '(021) 555-1234'] -> Dibersihkan & Difilter: ['081234567890', '+6281234567891', '0215551234']\n",
            "Di 'Telepon Set 2': ['085678901234', '0800-1-800-900'] -> Dibersihkan & Difilter: ['085678901234', '08001800900']\n",
            "Di 'Telepon Set 3': ['081-234-567', '0812345678901', '1-555-123-4567'] -> Dibersihkan & Difilter: ['081234567', '0812345678901', '15551234567']\n",
            "Di 'Tanpa Telepon': [] -> Dibersihkan & Difilter: []\n",
            "\n",
            "Variasi regex untuk Goal 2 (Nomor Telepon) selesai dieksekusi.\n"
          ]
        }
      ]
    },
    {
      "cell_type": "markdown",
      "source": [
        "### 4.3 Penerapan Regex Terbaik (Nomor Telepon) pada Sampel dari Dataset\n",
        "\n",
        "Sekarang, kita akan menerapkan regex terbaik dari variasi sebelumnya (Variasi 4) untuk menemukan nomor telepon pada beberapa sampel email dari dataset `df_email`."
      ],
      "metadata": {
        "id": "N1elgAR36SlO"
      }
    },
    {
      "cell_type": "code",
      "source": [
        "# Sel 10: Menerapkan Regex Telepon v4 pada Sampel dari DataFrame\n",
        "print(\"\\n--- Menerapkan Regex Telepon v4 pada Sampel Dataset ---\")\n",
        "\n",
        "# Pastikan df_email, kolom_teks, kolom_label, dan regex_phone_v4 sudah terdefinisi\n",
        "if ('df_email' in globals() and df_email is not None and not df_email.empty and\n",
        "    'kolom_teks' in globals() and kolom_teks in df_email.columns and\n",
        "    'kolom_label' in globals() and kolom_label in df_email.columns and\n",
        "    'regex_phone_v4' in globals()):\n",
        "\n",
        "    all_phones_found_v4_df = {}\n",
        "\n",
        "    num_samples = min(20, len(df_email)) # Ambil hingga 20 sampel untuk analisis ini\n",
        "    # Ambil sampel acak yang berbeda dari yang digunakan untuk email, jika memungkinkan, atau cukup sampel baru\n",
        "    sample_df_phones = df_email.sample(n=num_samples, random_state=123) if len(df_email) > num_samples else df_email.head(num_samples)\n",
        "\n",
        "    print(f\"Menganalisis {len(sample_df_phones)} sampel email dari DataFrame untuk nomor telepon...\")\n",
        "\n",
        "    for index, row in sample_df_phones.iterrows():\n",
        "        email_text_content = str(row[kolom_teks])\n",
        "        label_val = row[kolom_label]\n",
        "\n",
        "        # Terapkan regex_phone_v4\n",
        "        # Variasi 4: (?<!\\d)(?:\\+\\d{1,3}\\s?)?(?:\\(\\s*\\d{2,4}\\s*\\)\\s?)?(?:\\d(?:\\s|-)?){6,13}\\d(?!\\s?(?:ext|x|extension)\\b|\\d)\n",
        "        matches_raw = re.findall(regex_phone_v4, email_text_content) # re.IGNORECASE tidak terlalu relevan untuk nomor\n",
        "\n",
        "        if matches_raw:\n",
        "            # Bersihkan hasil untuk hanya mendapatkan digit dan '+'\n",
        "            cleaned_matches = [re.sub(r\"[^0-9+]\", \"\", m).strip() for m in matches_raw]\n",
        "            # Filter tambahan untuk panjang digit setelah dibersihkan (misal, minimal 7 digit, maksimal 15)\n",
        "            # dan pastikan tidak hanya '+'\n",
        "            final_matches = [\n",
        "                m for m in cleaned_matches\n",
        "                if len(re.sub(r\"\\D\", \"\", m)) >= 7 and \\\n",
        "                   len(re.sub(r\"\\D\", \"\", m)) <= 15 and \\\n",
        "                   m != '+'\n",
        "            ]\n",
        "\n",
        "            if final_matches: # Hanya simpan jika ada nomor valid setelah pembersihan dan filter\n",
        "                 all_phones_found_v4_df[f\"Email Index {index} (Label: {label_val})\"] = list(set(final_matches)) # Simpan unik\n",
        "\n",
        "    if all_phones_found_v4_df:\n",
        "        print(\"\\nNomor telepon yang ditemukan dalam sampel DataFrame menggunakan regex_phone_v4:\")\n",
        "        for text_source, phones_found in all_phones_found_v4_df.items():\n",
        "            print(f\"Di {text_source}: {phones_found}\")\n",
        "    else:\n",
        "        print(\"\\nTidak ada nomor telepon ditemukan dalam sampel DataFrame dengan regex_phone_v4 (setelah filter).\")\n",
        "else:\n",
        "    print(\"\\nGAGAL menjalankan analisis nomor telepon pada DataFrame.\")\n",
        "    if 'df_email' not in globals() or df_email is None or df_email.empty:\n",
        "        print(\"- DataFrame 'df_email' tidak tersedia atau kosong.\")\n",
        "    if 'kolom_teks' not in globals() or ('df_email' in globals() and df_email is not None and kolom_teks not in df_email.columns):\n",
        "        print(\"- Kolom 'teks' (variabel 'kolom_teks') tidak terdefinisi atau tidak ada di DataFrame.\")\n",
        "    if 'kolom_label' not in globals() or ('df_email' in globals() and df_email is not None and kolom_label not in df_email.columns):\n",
        "        print(\"- Kolom 'label' (variabel 'kolom_label') tidak terdefinisi atau tidak ada di DataFrame.\")\n",
        "    if 'regex_phone_v4' not in globals():\n",
        "        print(\"- Variabel 'regex_phone_v4' tidak terdefinisi. Pastikan Sel 9 sudah dijalankan.\")\n",
        "\n",
        "print(\"\\nPenerapan regex nomor telepon pada sampel DataFrame selesai.\")"
      ],
      "metadata": {
        "colab": {
          "base_uri": "https://localhost:8080/"
        },
        "id": "vQaWxuY86TPT",
        "outputId": "6b71323b-7ae2-4738-dff6-4978f8330248"
      },
      "execution_count": null,
      "outputs": [
        {
          "output_type": "stream",
          "name": "stdout",
          "text": [
            "\n",
            "--- Menerapkan Regex Telepon v4 pada Sampel Dataset ---\n",
            "Menganalisis 20 sampel email dari DataFrame untuk nomor telepon...\n",
            "\n",
            "Nomor telepon yang ditemukan dalam sampel DataFrame menggunakan regex_phone_v4:\n",
            "Di Email Index 172 (Label: 1): ['94515085']\n",
            "\n",
            "Penerapan regex nomor telepon pada sampel DataFrame selesai.\n"
          ]
        }
      ]
    },
    {
      "cell_type": "markdown",
      "source": [
        "## 5. Goal 3 : Menemukan URL/Link dengan Pendekatan Berbeda\n",
        "\n",
        "**Tujuan:** Mengidentifikasi URL atau link dengan regex yang lebih inklusif pada awalnya, diikuti dengan langkah pembersihan dan validasi untuk meningkatkan akurasi.\n",
        "\n",
        "### 5.1 Persiapan Contoh Teks Statis untuk Goal 3 (Sama seperti sebelumnya)\n",
        "\n",
        "Kita tetap menggunakan contoh teks yang sama dari `Sel 11` untuk konsistensi perbandingan."
      ],
      "metadata": {
        "id": "3jR9Twia6lHg"
      }
    },
    {
      "cell_type": "code",
      "source": [
        "# Sel 11 (Tidak perlu dijalankan ulang jika sudah ada dan variabel static_text_urls_* terdefinisi)\n",
        "# Pastikan variabel static_text_urls_1, static_text_urls_2, dst. sudah ada dari eksekusi Sel 11 sebelumnya.\n",
        "# Jika belum, jalankan Sel 11.\n",
        "if 'static_text_urls_1' not in globals():\n",
        "    print(\"Menjalankan ulang Sel 11 untuk mendefinisikan contoh teks URL...\")\n",
        "    static_text_urls_1 = \"Kunjungi situs kami di http://www.example.com untuk info lebih lanjut. Ada juga link ke https://sub.example.co.uk/path?query=1.\"\n",
        "    static_text_urls_2 = \"Cek promo di www.tokopromo.net atau kunjungi example.org/promo. Link aman: ftps://secure.server.com.\"\n",
        "    static_text_urls_3 = \"Hindari: http://192.168.1.1/admin (IP lokal). Link rusak: www. incomplete. Link tanpa http: domain.com/page.html.\"\n",
        "    static_text_no_urls = \"Email ini hanya berisi teks biasa tanpa ada link atau URL. Kontak di cs@provider.com.\"\n",
        "    static_text_urls_complex = \"Lihat di https://example.com/path_with_underscore-and-hyphen/file.php?param1=value1¶m2=value_with_symbols#fragment, atau www.another-example.com:8080/app.\"\n",
        "    print(\"Contoh teks statis untuk Goal 3 (URL/Link) siap digunakan.\")\n",
        "else:\n",
        "    print(\"Contoh teks statis untuk Goal 3 (URL/Link) sudah ada.\")\n",
        "\n",
        "texts_to_test_urls = {\n",
        "    \"URL Set 1\": static_text_urls_1,\n",
        "    \"URL Set 2\": static_text_urls_2,\n",
        "    \"URL Set 3\": static_text_urls_3,\n",
        "    \"URL Kompleks\": static_text_urls_complex,\n",
        "    \"Tanpa URL\": static_text_no_urls\n",
        "}"
      ],
      "metadata": {
        "colab": {
          "base_uri": "https://localhost:8080/"
        },
        "id": "g9SCiAN_6lzf",
        "outputId": "7e632648-f111-4f28-a10c-15c9df2b45e7"
      },
      "execution_count": null,
      "outputs": [
        {
          "output_type": "stream",
          "name": "stdout",
          "text": [
            "Contoh teks statis untuk Goal 3 (URL/Link) sudah ada.\n"
          ]
        }
      ]
    },
    {
      "cell_type": "markdown",
      "source": [
        "### 5.2 Variasi Pola Regex untuk Menemukan URL/Link\n",
        "\n",
        "Kita akan fokus pada satu regex yang lebih permisif di awal, kemudian melakukan pembersihan."
      ],
      "metadata": {
        "id": "kjYfnL1Z6uiD"
      }
    },
    {
      "cell_type": "code",
      "source": [
        "# Sel 12: Regex Lebih Permisif dan Fungsi Pembersihan URL\n",
        "\n",
        "print(\"--- Menguji Regex URL Lebih Permisif dengan Pembersihan ---\")\n",
        "\n",
        "# Regex yang lebih longgar untuk menangkap kandidat URL\n",
        "# Ini akan menangkap string yang dimulai dengan skema umum, www., atau terlihat seperti domain.tld\n",
        "# dan diikuti oleh karakter non-spasi (dengan beberapa pengecualian untuk akhir kalimat)\n",
        "# Ini sengaja dibuat lebih 'greedy' pada awalnya.\n",
        "regex_url_permissive = r\"\"\"\n",
        "    (?:(?:https?|ftp|file)://|www\\.|ftp\\.)[\\w\\-_./?&=%+#~;@$:!*'(),[\\]]+  # Skema atau www. diikuti karakter URL umum\n",
        "    |                                                                     # ATAU\n",
        "    (?:[a-zA-Z0-9](?:[a-zA-Z0-9\\-]{0,61}[a-zA-Z0-9])?\\.)+                  # Bagian domain (sub.domain.)\n",
        "    (?:[a-zA-Z]{2,63})                                                    # TLD\n",
        "    (?:/[^\\s\"'<>()]*|\\?[^\\s\"'<>()]*)?                                     # Path atau Query opsional (karakter non-spasi dan non-delimiters umum)\n",
        "\"\"\"\n",
        "# \\w cocok dengan [a-zA-Z0-9_]\n",
        "# [^\\s\"'<>()]* -> Karakter apa pun kecuali spasi, petik tunggal/ganda, kurung sudut/biasa. Ini untuk path/query.\n",
        "\n",
        "def clean_and_validate_url(url_match):\n",
        "    \"\"\"\n",
        "    Membersihkan dan melakukan validasi dasar pada URL yang cocok.\n",
        "    \"\"\"\n",
        "    # 1. Hapus spasi di awal/akhir\n",
        "    cleaned_url = url_match.strip()\n",
        "\n",
        "    # 2. Hapus tanda baca umum di akhir URL, kecuali jika itu bagian dari query/fragment\n",
        "    #    Loop untuk menghapus berulang kali jika ada beberapa tanda baca (misal, \"url).),\")\n",
        "    #    Ini adalah heuristik.\n",
        "    original_length = len(cleaned_url)\n",
        "    while True:\n",
        "        cleaned_url = re.sub(r'[.,;!?\\)\\]}\"\\'>]+$', '', cleaned_url)\n",
        "        if len(cleaned_url) == original_length: # Tidak ada perubahan, keluar loop\n",
        "            break\n",
        "        original_length = len(cleaned_url) # Update panjang untuk iterasi berikutnya\n",
        "\n",
        "    # 3. Validasi dasar:\n",
        "    #    - Harus mengandung setidaknya satu titik (untuk domain.tld)\n",
        "    #    - Panjang minimal tertentu (misal, 4 karakter: a.co)\n",
        "    #    - Tidak hanya terdiri dari angka dan titik (untuk menghindari IP address parsial yang salah)\n",
        "    #    - Tidak boleh hanya skema (misal, \"http://\")\n",
        "    if '.' not in cleaned_url or len(cleaned_url) < 4:\n",
        "        return None\n",
        "    if cleaned_url.lower() in [\"http://\", \"https://\", \"ftp://\", \"file://\", \"www.\"]:\n",
        "        return None\n",
        "    if re.fullmatch(r\"[\\d\\.]+\", cleaned_url) and not re.search(r\"\\d{1,3}\\.\\d{1,3}\\.\\d{1,3}\\.\\d{1,3}\", cleaned_url): # Jika hanya angka & titik, tapi bukan IP valid\n",
        "        return None\n",
        "\n",
        "    # 4. Cek apakah URL yang \"dibersihkan\" masih memiliki struktur yang masuk akal\n",
        "    #    Misalnya, jika dimulai dengan http/www, pastikan ada sesuatu setelahnya.\n",
        "    if cleaned_url.lower().startswith((\"http\", \"www\")) and len(cleaned_url) < 8: # http://a.b atau www.a.b\n",
        "         # Bisa jadi terlalu pendek, tapi kita biarkan dulu jika lolos filter lain\n",
        "         pass\n",
        "\n",
        "    # 5. Hindari domain dari email jika hanya domain.tld (tanpa path/query/www/http)\n",
        "    #    Ini adalah bagian yang paling sulit dan rawan kesalahan.\n",
        "    #    Jika tidak ada skema, tidak ada www, tidak ada path, tidak ada query,\n",
        "    #    dan formatnya hanya domain.tld, maka kita lebih berhati-hati.\n",
        "    #    Kita akan tangani ini lebih lanjut di Sel 13-Revisi dengan konteks dari email asli.\n",
        "    #    Untuk sekarang, fungsi ini tidak melakukan filter email secara agresif.\n",
        "\n",
        "    return cleaned_url\n",
        "\n",
        "# Uji pada contoh teks statis\n",
        "for name, text in texts_to_test_urls.items():\n",
        "    raw_matches = re.findall(regex_url_permissive, text, re.VERBOSE | re.IGNORECASE)\n",
        "    valid_urls = []\n",
        "    if raw_matches:\n",
        "        for match in raw_matches:\n",
        "            cleaned = clean_and_validate_url(match)\n",
        "            if cleaned:\n",
        "                valid_urls.append(cleaned)\n",
        "    print(f\"Di '{name}': Mentah: {raw_matches} -> Valid & Bersih: {list(set(valid_urls))}\")\n",
        "\n",
        "print(\"\\nPengujian regex URL permisif dan fungsi pembersihan selesai.\")"
      ],
      "metadata": {
        "colab": {
          "base_uri": "https://localhost:8080/"
        },
        "id": "wcitIG8k6vg8",
        "outputId": "4347e2a4-e0f6-43f0-b1d5-79fcdeeca721"
      },
      "execution_count": null,
      "outputs": [
        {
          "output_type": "stream",
          "name": "stdout",
          "text": [
            "--- Menguji Regex URL Lebih Permisif dengan Pembersihan ---\n",
            "Di 'URL Set 1': Mentah: ['http://www.example.com', 'https://sub.example.co.uk/path?query=1.'] -> Valid & Bersih: ['http://www.example.com', 'https://sub.example.co.uk/path?query=1']\n",
            "Di 'URL Set 2': Mentah: ['www.tokopromo.net', 'example.org/promo.', 'secure.server.com'] -> Valid & Bersih: ['example.org/promo', 'secure.server.com', 'www.tokopromo.net']\n",
            "Di 'URL Set 3': Mentah: ['http://192.168.1.1/admin', 'domain.com/page.html.'] -> Valid & Bersih: ['http://192.168.1.1/admin', 'domain.com/page.html']\n",
            "Di 'URL Kompleks': Mentah: ['https://example.com/path_with_underscore-and-hyphen/file.php?param1=value1', 'www.another-example.com:8080/app.'] -> Valid & Bersih: ['https://example.com/path_with_underscore-and-hyphen/file.php?param1=value1', 'www.another-example.com:8080/app']\n",
            "Di 'Tanpa URL': Mentah: ['provider.com'] -> Valid & Bersih: ['provider.com']\n",
            "\n",
            "Pengujian regex URL permisif dan fungsi pembersihan selesai.\n"
          ]
        }
      ]
    },
    {
      "cell_type": "markdown",
      "source": [
        "### 5.3 Penerapan Regex URL (Revisi) pada Sampel dari Dataset\n",
        "\n",
        "Kita akan menerapkan regex URL yang lebih permisif dan fungsi pembersihan pada sampel email dari dataset."
      ],
      "metadata": {
        "id": "MbBigapm7HWp"
      }
    },
    {
      "cell_type": "code",
      "source": [
        "# Sel 13-Revisi: Menerapkan Regex URL Permisif dan Pembersihan pada Sampel DataFrame\n",
        "\n",
        "print(\"\\n--- Menerapkan Regex URL Permisif (Revisi) pada Sampel Dataset ---\")\n",
        "\n",
        "if ('df_email' in globals() and df_email is not None and not df_email.empty and\n",
        "    'kolom_teks' in globals() and kolom_teks in df_email.columns and\n",
        "    'kolom_label' in globals() and kolom_label in df_email.columns and\n",
        "    'regex_url_permissive' in globals() and callable(clean_and_validate_url)):\n",
        "\n",
        "    all_cleaned_urls_df = {}\n",
        "\n",
        "    num_samples = min(50, len(df_email)) # Tingkatkan jumlah sampel menjadi 50\n",
        "    sample_df_urls_revised = df_email.sample(n=num_samples, random_state=345) if len(df_email) > num_samples else df_email.head(num_samples)\n",
        "\n",
        "    print(f\"Menganalisis {len(sample_df_urls_revised)} sampel email dari DataFrame untuk URL/Link (Revisi)...\")\n",
        "\n",
        "    # Untuk filter email yang lebih baik, kita juga cari email di teks yang sama\n",
        "    regex_email_simple = r\"[a-zA-Z0-9._%+-]+@[a-zA-Z0-9.-]+\\.[a-zA-Z]{2,}\"\n",
        "\n",
        "    for index, row in sample_df_urls_revised.iterrows():\n",
        "        email_text_content = str(row[kolom_teks])\n",
        "        label_val = row[kolom_label]\n",
        "\n",
        "        raw_url_matches = re.findall(regex_url_permissive, email_text_content, re.VERBOSE | re.IGNORECASE)\n",
        "\n",
        "        # Ekstrak juga email dari teks untuk membantu filter false positive URL\n",
        "        email_matches_in_text = re.findall(regex_email_simple, email_text_content, re.IGNORECASE)\n",
        "        email_domains_in_text = {match.split('@')[1].lower() for match in email_matches_in_text if '@' in match}\n",
        "\n",
        "        if raw_url_matches:\n",
        "            urls_in_email = []\n",
        "            for url_match in raw_url_matches:\n",
        "                cleaned_candidate_url = clean_and_validate_url(url_match)\n",
        "\n",
        "                if cleaned_candidate_url:\n",
        "                    # Filter tambahan: jika URL yang bersih hanya domain.tld (tanpa http/www/path/query)\n",
        "                    # dan domain tersebut ada di daftar domain email yang ditemukan di teks yang sama,\n",
        "                    # kemungkinan besar itu adalah false positive dari alamat email.\n",
        "                    is_likely_email_domain = False\n",
        "                    if not cleaned_candidate_url.lower().startswith((\"http\", \"www\")) and \\\n",
        "                       '/' not in cleaned_candidate_url and \\\n",
        "                       '?' not in cleaned_candidate_url and \\\n",
        "                       '#' not in cleaned_candidate_url:\n",
        "                        # Cek apakah domain ini ada di email_domains_in_text\n",
        "                        # Perlu penanganan domain dengan subdomain, misal mail.example.com vs example.com\n",
        "                        # Untuk sederhana, kita cek exact match dulu\n",
        "                        if cleaned_candidate_url.lower() in email_domains_in_text:\n",
        "                            is_likely_email_domain = True\n",
        "\n",
        "                    if not is_likely_email_domain:\n",
        "                        urls_in_email.append(cleaned_candidate_url)\n",
        "\n",
        "            if urls_in_email:\n",
        "                 all_cleaned_urls_df[f\"Email Index {index} (Label: {label_val})\"] = list(set(urls_in_email))\n",
        "\n",
        "    if all_cleaned_urls_df:\n",
        "        print(\"\\nURL/Link yang ditemukan (Revisi) dalam sampel DataFrame:\")\n",
        "        for text_source, urls_found in all_cleaned_urls_df.items():\n",
        "            print(f\"Di {text_source}: {urls_found}\")\n",
        "    else:\n",
        "        print(\"\\nTidak ada URL/Link ditemukan (Revisi) dalam sampel DataFrame setelah pembersihan dan filter.\")\n",
        "else:\n",
        "    print(\"\\nGAGAL menjalankan analisis URL/Link (Revisi) pada DataFrame. Variabel tidak terdefinisi.\")\n",
        "\n",
        "print(\"\\nPenerapan regex URL/Link (Revisi) pada sampel DataFrame selesai.\")\n",
        "\n",
        "# Persiapan untuk visualisasi (Sel 14)\n",
        "# Kumpulkan semua URL yang ditemukan dari all_cleaned_urls_df\n",
        "all_extracted_urls_list = []\n",
        "if 'all_cleaned_urls_df' in globals() and all_cleaned_urls_df:\n",
        "    for urls in all_cleaned_urls_df.values():\n",
        "        all_extracted_urls_list.extend(urls)\n",
        "    print(f\"\\nTotal URL unik yang diekstrak dari sampel: {len(set(all_extracted_urls_list))}\")\n",
        "else:\n",
        "    print(\"\\nTidak ada URL yang diekstrak untuk dianalisis lebih lanjut.\")"
      ],
      "metadata": {
        "colab": {
          "base_uri": "https://localhost:8080/"
        },
        "id": "8CwSIlZl7INW",
        "outputId": "8573645a-c8e1-420f-806d-8071eb572400"
      },
      "execution_count": null,
      "outputs": [
        {
          "output_type": "stream",
          "name": "stdout",
          "text": [
            "\n",
            "--- Menerapkan Regex URL Permisif (Revisi) pada Sampel Dataset ---\n",
            "Menganalisis 50 sampel email dari DataFrame untuk URL/Link (Revisi)...\n",
            "\n",
            "Tidak ada URL/Link ditemukan (Revisi) dalam sampel DataFrame setelah pembersihan dan filter.\n",
            "\n",
            "Penerapan regex URL/Link (Revisi) pada sampel DataFrame selesai.\n",
            "\n",
            "Tidak ada URL yang diekstrak untuk dianalisis lebih lanjut.\n"
          ]
        }
      ]
    },
    {
      "cell_type": "markdown",
      "source": [
        "## 6. Goal 4: Mencari Kata Kunci Spam Tertentu\n",
        "\n",
        "**Tujuan:** Mengidentifikasi keberadaan dan frekuensi kata-kata kunci yang sering diasosiasikan dengan email spam. Contoh kata kunci: \"gratis\", \"hadiah\", \"promo\", \"diskon\", \"uang\", \"klik\", \"segera\", \"terbatas\", \"pemenang\", \"selamat\".\n",
        "\n",
        "Kita akan membuat regex yang case-insensitive untuk menangkap variasi penulisan kata kunci ini.\n",
        "\n",
        "### 6.1 Persiapan Daftar Kata Kunci dan Contoh Teks Statis untuk Goal 4"
      ],
      "metadata": {
        "id": "tocGO4j386Rt"
      }
    },
    {
      "cell_type": "code",
      "source": [
        "# Sel 14: Persiapan Daftar Kata Kunci dan Contoh Teks Statis untuk Goal 4\n",
        "\n",
        "# Daftar kata kunci spam (bisa ditambahkan atau disesuaikan)\n",
        "# Kita akan mencari kata-kata ini sebagai kata utuh (whole words) untuk menghindari pencocokan parsial\n",
        "# seperti \"gratis\" dalam \"integrasi\".\n",
        "spam_keywords = [\n",
        "    \"gratis\", \"hadiah\", \"promo\", \"diskon\", \"uang\", \"rupiah\", \"rp\",\n",
        "    \"klik\", \"segera\", \"terbatas\", \"pemenang\", \"selamat\", \"penawaran\",\n",
        "    \"garansi\", \"termurah\", \"investasi\", \"keuntungan\", \"bonus\",\n",
        "    \"mendesak\", \"penting\", \"jangan lewatkan\", \"beli sekarang\"\n",
        "]\n",
        "\n",
        "# Membuat pola regex dari daftar kata kunci\n",
        "# \\b memastikan kita mencocokkan kata utuh\n",
        "# re.escape digunakan untuk menghindari karakter khusus dalam kata kunci diinterpretasikan sebagai meta-karakter regex\n",
        "# | adalah OR dalam regex\n",
        "# Kita akan menggunakan flag re.IGNORECASE saat melakukan pencarian\n",
        "regex_spam_keywords_pattern_string = r\"\\b(?:\" + \"|\".join(re.escape(keyword) for keyword in spam_keywords) + r\")\\b\"\n",
        "\n",
        "print(f\"Pola Regex untuk Kata Kunci Spam (string): {regex_spam_keywords_pattern_string}\")\n",
        "\n",
        "# Contoh teks statis\n",
        "static_text_keywords_spam = \"Selamat! Anda pemenang hadiah uang tunai Rp 1.000.000! Klik di sini segera, penawaran terbatas. Dapatkan diskon GRATIS ongkir.\"\n",
        "static_text_keywords_ham = \"Berikut adalah laporan bulanan mengenai investasi perusahaan. Mohon segera ditinjau. Tidak ada penawaran khusus saat ini.\"\n",
        "static_text_keywords_mixed = \"Ada promo terbatas untuk pelanggan setia, dapatkan bonus pulsa. Tapi hati-hati dengan penipuan berkedok hadiah uang.\"\n",
        "static_text_no_keywords = \"Diskusi mengenai jadwal rapat minggu depan.\"\n",
        "\n",
        "texts_to_test_keywords = {\n",
        "    \"Keywords Spam\": static_text_keywords_spam,\n",
        "    \"Keywords Ham\": static_text_keywords_ham,\n",
        "    \"Keywords Mixed\": static_text_keywords_mixed,\n",
        "    \"Tanpa Keywords\": static_text_no_keywords\n",
        "}\n",
        "\n",
        "print(\"\\n--- Contoh Teks untuk Goal 4 (Kata Kunci Spam) ---\")\n",
        "for name, text in texts_to_test_keywords.items():\n",
        "    print(f\"'{name}': {text}\")\n",
        "\n",
        "print(\"\\nPersiapan untuk Goal 4 (Kata Kunci Spam) selesai.\")"
      ],
      "metadata": {
        "colab": {
          "base_uri": "https://localhost:8080/"
        },
        "id": "i0pMdN1M87Lb",
        "outputId": "5f592008-b506-4464-87f8-24efbd82c716"
      },
      "execution_count": null,
      "outputs": [
        {
          "output_type": "stream",
          "name": "stdout",
          "text": [
            "Pola Regex untuk Kata Kunci Spam (string): \\b(?:gratis|hadiah|promo|diskon|uang|rupiah|rp|klik|segera|terbatas|pemenang|selamat|penawaran|garansi|termurah|investasi|keuntungan|bonus|mendesak|penting|jangan\\ lewatkan|beli\\ sekarang)\\b\n",
            "\n",
            "--- Contoh Teks untuk Goal 4 (Kata Kunci Spam) ---\n",
            "'Keywords Spam': Selamat! Anda pemenang hadiah uang tunai Rp 1.000.000! Klik di sini segera, penawaran terbatas. Dapatkan diskon GRATIS ongkir.\n",
            "'Keywords Ham': Berikut adalah laporan bulanan mengenai investasi perusahaan. Mohon segera ditinjau. Tidak ada penawaran khusus saat ini.\n",
            "'Keywords Mixed': Ada promo terbatas untuk pelanggan setia, dapatkan bonus pulsa. Tapi hati-hati dengan penipuan berkedok hadiah uang.\n",
            "'Tanpa Keywords': Diskusi mengenai jadwal rapat minggu depan.\n",
            "\n",
            "Persiapan untuk Goal 4 (Kata Kunci Spam) selesai.\n"
          ]
        }
      ]
    },
    {
      "cell_type": "markdown",
      "source": [
        "### 6.2 Menerapkan Regex Kata Kunci pada Contoh Teks Statis\n",
        "\n",
        "Kita akan menggunakan pola regex yang telah dibuat untuk mencari kata kunci spam dalam contoh teks statis. Kita akan menggunakan `re.IGNORECASE` agar pencarian tidak membedakan huruf besar/kecil."
      ],
      "metadata": {
        "id": "OKNmDbMN9Gr_"
      }
    },
    {
      "cell_type": "code",
      "source": [
        "# Sel 15: Menerapkan Regex Kata Kunci pada Contoh Teks Statis\n",
        "\n",
        "print(\"--- Menerapkan Regex Kata Kunci Spam pada Contoh Teks Statis ---\")\n",
        "\n",
        "# Pola regex string dari Sel 14\n",
        "# regex_spam_keywords_pattern_string sudah terdefinisi di Sel 14\n",
        "\n",
        "# texts_to_test_keywords juga sudah terdefinisi di Sel 14\n",
        "\n",
        "# Kita akan menyimpan temuan untuk setiap teks\n",
        "all_found_keywords_static = {}\n",
        "\n",
        "for name, text in texts_to_test_keywords.items():\n",
        "    # Menggunakan re.IGNORECASE untuk pencarian case-insensitive\n",
        "    # Menggunakan re.findall untuk menemukan semua kemunculan\n",
        "    matches = re.findall(regex_spam_keywords_pattern_string, text, re.IGNORECASE)\n",
        "\n",
        "    # Untuk analisis frekuensi, kita ubah semua match menjadi lowercase\n",
        "    # dan hitung frekuensinya\n",
        "    if matches:\n",
        "        # Normalisasi ke lowercase untuk konsistensi\n",
        "        normalized_matches = [match.lower() for match in matches]\n",
        "        all_found_keywords_static[name] = normalized_matches\n",
        "        print(f\"\\nDi '{name}':\")\n",
        "        print(f\"  Teks Asli: {text}\")\n",
        "        print(f\"  Kata Kunci Ditemukan (case-insensitive): {normalized_matches}\")\n",
        "\n",
        "        # Hitung frekuensi setiap kata kunci yang ditemukan\n",
        "        keyword_counts = {}\n",
        "        for keyword in normalized_matches:\n",
        "            keyword_counts[keyword] = keyword_counts.get(keyword, 0) + 1\n",
        "        print(f\"  Frekuensi Kata Kunci: {keyword_counts}\")\n",
        "    else:\n",
        "        all_found_keywords_static[name] = []\n",
        "        print(f\"\\nDi '{name}':\")\n",
        "        print(f\"  Teks Asli: {text}\")\n",
        "        print(f\"  Tidak ada kata kunci spam ditemukan.\")\n",
        "\n",
        "print(\"\\nPenerapan regex kata kunci pada contoh teks statis selesai.\")"
      ],
      "metadata": {
        "colab": {
          "base_uri": "https://localhost:8080/"
        },
        "id": "gK_1EOkW9Hza",
        "outputId": "f3e52d5b-db32-4f07-b9f4-c9d01443cd9b"
      },
      "execution_count": null,
      "outputs": [
        {
          "output_type": "stream",
          "name": "stdout",
          "text": [
            "--- Menerapkan Regex Kata Kunci Spam pada Contoh Teks Statis ---\n",
            "\n",
            "Di 'Keywords Spam':\n",
            "  Teks Asli: Selamat! Anda pemenang hadiah uang tunai Rp 1.000.000! Klik di sini segera, penawaran terbatas. Dapatkan diskon GRATIS ongkir.\n",
            "  Kata Kunci Ditemukan (case-insensitive): ['selamat', 'pemenang', 'hadiah', 'uang', 'rp', 'klik', 'segera', 'penawaran', 'terbatas', 'diskon', 'gratis']\n",
            "  Frekuensi Kata Kunci: {'selamat': 1, 'pemenang': 1, 'hadiah': 1, 'uang': 1, 'rp': 1, 'klik': 1, 'segera': 1, 'penawaran': 1, 'terbatas': 1, 'diskon': 1, 'gratis': 1}\n",
            "\n",
            "Di 'Keywords Ham':\n",
            "  Teks Asli: Berikut adalah laporan bulanan mengenai investasi perusahaan. Mohon segera ditinjau. Tidak ada penawaran khusus saat ini.\n",
            "  Kata Kunci Ditemukan (case-insensitive): ['investasi', 'segera', 'penawaran']\n",
            "  Frekuensi Kata Kunci: {'investasi': 1, 'segera': 1, 'penawaran': 1}\n",
            "\n",
            "Di 'Keywords Mixed':\n",
            "  Teks Asli: Ada promo terbatas untuk pelanggan setia, dapatkan bonus pulsa. Tapi hati-hati dengan penipuan berkedok hadiah uang.\n",
            "  Kata Kunci Ditemukan (case-insensitive): ['promo', 'terbatas', 'bonus', 'hadiah', 'uang']\n",
            "  Frekuensi Kata Kunci: {'promo': 1, 'terbatas': 1, 'bonus': 1, 'hadiah': 1, 'uang': 1}\n",
            "\n",
            "Di 'Tanpa Keywords':\n",
            "  Teks Asli: Diskusi mengenai jadwal rapat minggu depan.\n",
            "  Tidak ada kata kunci spam ditemukan.\n",
            "\n",
            "Penerapan regex kata kunci pada contoh teks statis selesai.\n"
          ]
        }
      ]
    },
    {
      "cell_type": "markdown",
      "source": [
        "### 6.3 Menerapkan Regex Kata Kunci pada Sampel dari Dataset dan Mengumpulkan Data untuk Visualisasi\n",
        "\n",
        "Kita akan menerapkan regex kata kunci spam pada sampel email dari `df_email`. Kita juga akan mengumpulkan data frekuensi kata kunci yang ditemukan, membedakan antara email spam dan ham, untuk persiapan visualisasi."
      ],
      "metadata": {
        "id": "gYNoX6PM9WO6"
      }
    },
    {
      "cell_type": "code",
      "source": [
        "# Sel 16: Menerapkan Regex Kata Kunci pada Sampel DataFrame dan Mengumpulkan Data\n",
        "\n",
        "print(\"\\n--- Menerapkan Regex Kata Kunci Spam pada Sampel Dataset ---\")\n",
        "\n",
        "# Pastikan df_email, kolom_teks, kolom_label, dan regex_spam_keywords_pattern_string sudah terdefinisi\n",
        "if ('df_email' in globals() and df_email is not None and not df_email.empty and\n",
        "    'kolom_teks' in globals() and kolom_teks in df_email.columns and\n",
        "    'kolom_label' in globals() and kolom_label in df_email.columns and\n",
        "    'regex_spam_keywords_pattern_string' in globals()):\n",
        "\n",
        "    # Data untuk menyimpan semua kata kunci yang ditemukan per kategori (spam/ham)\n",
        "    # Ini akan digunakan untuk visualisasi\n",
        "    keywords_in_spam = []\n",
        "    keywords_in_ham = []\n",
        "\n",
        "    # Untuk melihat beberapa contoh email dengan kata kunci yang ditemukan\n",
        "    found_keywords_examples = {}\n",
        "\n",
        "    num_samples = min(50, len(df_email)) # Ambil hingga 50 sampel, atau semua jika kurang dari 50\n",
        "    # Kita bisa menganalisis seluruh dataset jika tidak terlalu besar, atau tetap menggunakan sampel\n",
        "    # Untuk demonstrasi, kita gunakan sampel. Jika ingin seluruh dataset, ganti sample_df_keywords dengan df_email\n",
        "    sample_df_keywords = df_email.sample(n=num_samples, random_state=456) if len(df_email) > num_samples else df_email\n",
        "\n",
        "    print(f\"Menganalisis {len(sample_df_keywords)} sampel email dari DataFrame untuk kata kunci spam...\")\n",
        "\n",
        "    for index, row in sample_df_keywords.iterrows():\n",
        "        email_text_content = str(row[kolom_teks])\n",
        "        label_val = row[kolom_label] # Asumsi label 1 untuk spam, 0 untuk ham\n",
        "\n",
        "        matches = re.findall(regex_spam_keywords_pattern_string, email_text_content, re.IGNORECASE)\n",
        "\n",
        "        if matches:\n",
        "            normalized_matches = [match.lower() for match in matches]\n",
        "\n",
        "            # Simpan contoh untuk ditampilkan (misalnya, 5 contoh pertama)\n",
        "            if len(found_keywords_examples) < 5:\n",
        "                found_keywords_examples[f\"Email Index {index} (Label: {label_val})\"] = {\n",
        "                    \"text_snippet\": email_text_content[:200] + \"...\", # Cuplikan teks\n",
        "                    \"keywords\": list(set(normalized_matches)) # Kata kunci unik yang ditemukan\n",
        "                }\n",
        "\n",
        "            if label_val == 1: # Spam\n",
        "                keywords_in_spam.extend(normalized_matches)\n",
        "            elif label_val == 0: # Ham\n",
        "                keywords_in_ham.extend(normalized_matches)\n",
        "            # Jika ada label lain, bisa ditambahkan kondisinya di sini\n",
        "\n",
        "    # Cetak beberapa contoh email dengan kata kunci yang ditemukan\n",
        "    if found_keywords_examples:\n",
        "        print(\"\\n--- Contoh Email dengan Kata Kunci Ditemukan ---\")\n",
        "        for source, data in found_keywords_examples.items():\n",
        "            print(f\"\\n{source}:\")\n",
        "            print(f\"  Cuplikan: {data['text_snippet']}\")\n",
        "            print(f\"  Kata Kunci: {data['keywords']}\")\n",
        "    else:\n",
        "        print(\"\\nTidak ada kata kunci ditemukan dalam sampel yang diproses untuk ditampilkan sebagai contoh.\")\n",
        "\n",
        "    # Informasi ringkasan\n",
        "    print(f\"\\nTotal kata kunci ditemukan di email SPAM (dari sampel): {len(keywords_in_spam)}\")\n",
        "    print(f\"Total kata kunci ditemukan di email HAM (dari sampel): {len(keywords_in_ham)}\")\n",
        "\n",
        "    # Jika tidak ada kata kunci ditemukan sama sekali\n",
        "    if not keywords_in_spam and not keywords_in_ham:\n",
        "        print(\"\\nTidak ada kata kunci spam dari daftar yang ditemukan dalam sampel email yang dianalisis.\")\n",
        "\n",
        "else:\n",
        "    print(\"\\nGAGAL menjalankan analisis kata kunci pada DataFrame.\")\n",
        "    if 'df_email' not in globals() or df_email is None or df_email.empty:\n",
        "        print(\"- DataFrame 'df_email' tidak tersedia atau kosong.\")\n",
        "    # ... (tambahkan pengecekan variabel lain jika perlu) ...\n",
        "    if 'regex_spam_keywords_pattern_string' not in globals():\n",
        "        print(\"- Variabel 'regex_spam_keywords_pattern_string' tidak terdefinisi. Pastikan Sel 14 sudah dijalankan.\")\n",
        "\n",
        "print(\"\\nPengumpulan data kata kunci dari sampel DataFrame selesai.\")"
      ],
      "metadata": {
        "colab": {
          "base_uri": "https://localhost:8080/"
        },
        "id": "GLSOKoB29ZDr",
        "outputId": "cb7c5164-b8c6-466a-95c8-ced6ecaccb35"
      },
      "execution_count": null,
      "outputs": [
        {
          "output_type": "stream",
          "name": "stdout",
          "text": [
            "\n",
            "--- Menerapkan Regex Kata Kunci Spam pada Sampel Dataset ---\n",
            "Menganalisis 50 sampel email dari DataFrame untuk kata kunci spam...\n",
            "\n",
            "--- Contoh Email dengan Kata Kunci Ditemukan ---\n",
            "\n",
            "Email Index 129 (Label: 1):\n",
            "  Cuplikan: Anda disetujui! ! ! (158545) Paket pinjaman kami tidak pernah lebih menarik! Sekarang adalah waktu untuk membiayai kembali rumah Anda atau mendapatkan hipotek kedua untuk mengkonsolidasikan semua huta...\n",
            "  Kata Kunci: ['klik', 'penawaran', 'gratis', 'uang']\n",
            "\n",
            "Email Index 27 (Label: 1):\n",
            "  Cuplikan: Simpan uang Anda beli untuk mendapatkan barang ini di sini Anda belum mencoba ciall? Daripada Anda bahkan tidak bisa membayangkan bagaimana rasanya menjadi pria sejati di tempat tidur! Masalahnya adal...\n",
            "  Kata Kunci: ['uang']\n",
            "\n",
            "Email Index 241 (Label: 0):\n",
            "  Cuplikan: Selamat Vince selamat atas promosi ke MD. Layak dan pertanda layanan nyata bertahun -tahun bagi perusahaan. Tidak sedikit kontroversi dalam proses pemilihan. bagus sekali ! John...\n",
            "  Kata Kunci: ['selamat']\n",
            "\n",
            "Email Index 131 (Label: 1):\n",
            "  Cuplikan: Oreo Cookies Nationwide Survey - Menangkan Pasokan Oreo satu tahun. Survei Oreo - Kartu Hadiah $ 50 gratis atau pasokan satu tahun dari Oreo Cookies. upwhyvkg...\n",
            "  Kata Kunci: ['hadiah', 'gratis']\n",
            "\n",
            "Email Index 58 (Label: 1):\n",
            "  Cuplikan: Re: [879] Ladybug mendapatkan kembali kepercayaan diri Anda dengan viagra generik terbaik dari produsen berlisensi itu hanya satu klik saja...\n",
            "  Kata Kunci: ['klik']\n",
            "\n",
            "Total kata kunci ditemukan di email SPAM (dari sampel): 29\n",
            "Total kata kunci ditemukan di email HAM (dari sampel): 7\n",
            "\n",
            "Pengumpulan data kata kunci dari sampel DataFrame selesai.\n"
          ]
        }
      ]
    },
    {
      "cell_type": "markdown",
      "source": [
        "### 6.4 Visualisasi Frekuensi Kata Kunci Spam\n",
        "\n",
        "Setelah mengumpulkan kata kunci dari email spam dan ham, kita akan memvisualisasikan frekuensi kata kunci yang paling umum muncul di masing-masing kategori."
      ],
      "metadata": {
        "id": "VmBNDNe69ovM"
      }
    },
    {
      "cell_type": "code",
      "source": [
        "# Sel 17: Visualisasi Frekuensi Kata Kunci Spam\n",
        "\n",
        "import matplotlib.pyplot as plt\n",
        "from collections import Counter\n",
        "\n",
        "print(\"--- Visualisasi Frekuensi Kata Kunci Spam ---\")\n",
        "\n",
        "# Pastikan keywords_in_spam dan keywords_in_ham sudah terdefinisi dari Sel 16\n",
        "if ('keywords_in_spam' in globals() and 'keywords_in_ham' in globals() and\n",
        "    (keywords_in_spam or keywords_in_ham)): # Lanjutkan hanya jika ada data\n",
        "\n",
        "    # --- Analisis Frekuensi untuk Email SPAM ---\n",
        "    if keywords_in_spam:\n",
        "        spam_keyword_counts = Counter(keywords_in_spam)\n",
        "        # Ambil N kata kunci teratas (misalnya, 10 teratas)\n",
        "        top_n_spam = 10\n",
        "        most_common_spam_keywords = spam_keyword_counts.most_common(top_n_spam)\n",
        "\n",
        "        print(f\"\\n{top_n_spam} Kata Kunci Teratas di Email SPAM (dari sampel):\")\n",
        "        for keyword, count in most_common_spam_keywords:\n",
        "            print(f\"- {keyword}: {count}\")\n",
        "\n",
        "        # Persiapan data untuk plot spam\n",
        "        spam_words, spam_counts = zip(*most_common_spam_keywords) if most_common_spam_keywords else ([], [])\n",
        "\n",
        "        # Membuat plot untuk spam\n",
        "        plt.figure(figsize=(12, 6))\n",
        "        plt.bar(spam_words, spam_counts, color='salmon')\n",
        "        plt.xlabel(\"Kata Kunci\")\n",
        "        plt.ylabel(\"Frekuensi\")\n",
        "        plt.title(f\"Top {top_n_spam} Kata Kunci di Email SPAM (dari Sampel {num_samples} Email)\")\n",
        "        plt.xticks(rotation=45, ha=\"right\")\n",
        "        plt.tight_layout() # Menyesuaikan layout agar label tidak terpotong\n",
        "        plt.show()\n",
        "    else:\n",
        "        print(\"\\nTidak ada kata kunci ditemukan di email SPAM (dari sampel) untuk divisualisasikan.\")\n",
        "\n",
        "    # --- Analisis Frekuensi untuk Email HAM ---\n",
        "    if keywords_in_ham:\n",
        "        ham_keyword_counts = Counter(keywords_in_ham)\n",
        "        # Ambil N kata kunci teratas (misalnya, 5 teratas karena mungkin lebih sedikit)\n",
        "        top_n_ham = 5\n",
        "        most_common_ham_keywords = ham_keyword_counts.most_common(top_n_ham)\n",
        "\n",
        "        print(f\"\\n{top_n_ham} Kata Kunci Teratas di Email HAM (dari sampel):\")\n",
        "        for keyword, count in most_common_ham_keywords:\n",
        "            print(f\"- {keyword}: {count}\")\n",
        "\n",
        "        # Persiapan data untuk plot ham\n",
        "        ham_words, ham_counts = zip(*most_common_ham_keywords) if most_common_ham_keywords else ([], [])\n",
        "\n",
        "        # Membuat plot untuk ham (jika ada data)\n",
        "        if ham_words:\n",
        "            plt.figure(figsize=(10, 5))\n",
        "            plt.bar(ham_words, ham_counts, color='skyblue')\n",
        "            plt.xlabel(\"Kata Kunci\")\n",
        "            plt.ylabel(\"Frekuensi\")\n",
        "            plt.title(f\"Top {top_n_ham} Kata Kunci di Email HAM (dari Sampel {num_samples} Email)\")\n",
        "            plt.xticks(rotation=45, ha=\"right\")\n",
        "            plt.tight_layout()\n",
        "            plt.show()\n",
        "        else:\n",
        "            print(\"\\nTidak ada kata kunci yang cukup signifikan di email HAM (dari sampel) untuk ditampilkan dalam plot terpisah.\")\n",
        "\n",
        "    # --- Perbandingan Kata Kunci Umum (Opsional, jika ingin membandingkan kata yang sama) ---\n",
        "    # Anda bisa membuat plot perbandingan jika ada kata kunci yang muncul di kedua kategori\n",
        "    # atau membandingkan total kemunculan semua kata kunci.\n",
        "    # Untuk saat ini, kita fokus pada plot terpisah.\n",
        "\n",
        "else:\n",
        "    print(\"\\nTidak ada data kata kunci yang dikumpulkan dari Sel 16 untuk divisualisasikan.\")\n",
        "    if 'keywords_in_spam' not in globals() or 'keywords_in_ham' not in globals():\n",
        "        print(\"- Variabel 'keywords_in_spam' atau 'keywords_in_ham' tidak terdefinisi.\")\n",
        "    elif not keywords_in_spam and not keywords_in_ham:\n",
        "        print(\"- List 'keywords_in_spam' dan 'keywords_in_ham' keduanya kosong.\")\n",
        "\n",
        "print(\"\\nVisualisasi untuk Goal 4 (Kata Kunci Spam) selesai.\")"
      ],
      "metadata": {
        "colab": {
          "base_uri": "https://localhost:8080/",
          "height": 1000
        },
        "id": "g8pzFU619prZ",
        "outputId": "355c2f07-5ad1-4162-8d5f-07b105dacb7d"
      },
      "execution_count": null,
      "outputs": [
        {
          "output_type": "stream",
          "name": "stdout",
          "text": [
            "--- Visualisasi Frekuensi Kata Kunci Spam ---\n",
            "\n",
            "10 Kata Kunci Teratas di Email SPAM (dari sampel):\n",
            "- klik: 10\n",
            "- uang: 9\n",
            "- gratis: 8\n",
            "- penawaran: 1\n",
            "- hadiah: 1\n"
          ]
        },
        {
          "output_type": "display_data",
          "data": {
            "text/plain": [
              "<Figure size 1200x600 with 1 Axes>"
            ],
            "image/png": "[encoded data removed]"
          },
          "metadata": {}
        },
        {
          "output_type": "stream",
          "name": "stdout",
          "text": [
            "\n",
            "5 Kata Kunci Teratas di Email HAM (dari sampel):\n",
            "- selamat: 4\n",
            "- klik: 3\n"
          ]
        },
        {
          "output_type": "display_data",
          "data": {
            "text/plain": [
              "<Figure size 1000x500 with 1 Axes>"
            ],
            "image/png": "[encoded data removed]"
          },
          "metadata": {}
        },
        {
          "output_type": "stream",
          "name": "stdout",
          "text": [
            "\n",
            "Visualisasi untuk Goal 4 (Kata Kunci Spam) selesai.\n"
          ]
        }
      ]
    },
    {
      "cell_type": "markdown",
      "source": [
        "## 7. Goal 5: Mengidentifikasi Penggunaan Tanda Baca Berlebihan\n",
        "\n",
        "**Tujuan:** Mendeteksi pola penggunaan tanda baca yang berlebihan, seperti beberapa tanda seru (`!!!`), beberapa tanda tanya (`???`), atau kombinasi keduanya (`?!?!`) secara berturut-turut. Pola ini sering digunakan dalam email spam untuk menciptakan urgensi atau menarik perhatian.\n",
        "\n",
        "### 7.1 Persiapan Contoh Teks Statis untuk Goal 5"
      ],
      "metadata": {
        "id": "WVDY30YL9-PV"
      }
    },
    {
      "cell_type": "code",
      "source": [
        "# Sel 18: Persiapan Contoh Teks Statis untuk Goal 5\n",
        "\n",
        "static_text_excess_punct_1 = \"Penawaran terbatas!!! Jangan sampai ketinggalan! Apa Anda yakin?!?\"\n",
        "static_text_excess_punct_2 = \"GRATIS!!! Hanya untuk hari ini???\"\n",
        "static_text_excess_punct_3 = \"Ini penting! Tapi ini normal? Satu tanda saja.\"\n",
        "static_text_no_excess_punct = \"Ini adalah email biasa dengan tanda baca standar. Tidak ada yang berlebihan.\"\n",
        "static_text_mixed_punct = \"Apakah ini benar?!?!?! Saya tidak percaya!!! Hubungi kami sekarang.\"\n",
        "\n",
        "texts_to_test_excess_punct = {\n",
        "    \"Excess Punct 1\": static_text_excess_punct_1,\n",
        "    \"Excess Punct 2\": static_text_excess_punct_2,\n",
        "    \"Excess Punct 3 (Normal)\": static_text_excess_punct_3,\n",
        "    \"No Excess Punct\": static_text_no_excess_punct,\n",
        "    \"Mixed Excess Punct\": static_text_mixed_punct\n",
        "}\n",
        "\n",
        "print(\"--- Contoh Teks untuk Goal 5 (Tanda Baca Berlebihan) ---\")\n",
        "for name, text in texts_to_test_excess_punct.items():\n",
        "    print(f\"'{name}': {text}\")\n",
        "\n",
        "print(\"\\nPersiapan untuk Goal 5 (Tanda Baca Berlebihan) selesai.\")"
      ],
      "metadata": {
        "colab": {
          "base_uri": "https://localhost:8080/"
        },
        "id": "VI-dpDzA9_EY",
        "outputId": "4c7a22db-70b7-4258-d935-71b9927e9278"
      },
      "execution_count": null,
      "outputs": [
        {
          "output_type": "stream",
          "name": "stdout",
          "text": [
            "--- Contoh Teks untuk Goal 5 (Tanda Baca Berlebihan) ---\n",
            "'Excess Punct 1': Penawaran terbatas!!! Jangan sampai ketinggalan! Apa Anda yakin?!?\n",
            "'Excess Punct 2': GRATIS!!! Hanya untuk hari ini???\n",
            "'Excess Punct 3 (Normal)': Ini penting! Tapi ini normal? Satu tanda saja.\n",
            "'No Excess Punct': Ini adalah email biasa dengan tanda baca standar. Tidak ada yang berlebihan.\n",
            "'Mixed Excess Punct': Apakah ini benar?!?!?! Saya tidak percaya!!! Hubungi kami sekarang.\n",
            "\n",
            "Persiapan untuk Goal 5 (Tanda Baca Berlebihan) selesai.\n"
          ]
        }
      ]
    },
    {
      "cell_type": "markdown",
      "source": [
        "### 7.2 Menerapkan Regex untuk Tanda Baca Berlebihan pada Contoh Teks Statis\n",
        "\n",
        "Kita akan mencoba beberapa variasi regex untuk menangkap pola tanda baca berlebihan."
      ],
      "metadata": {
        "id": "bdV8DsYM-Glo"
      }
    },
    {
      "cell_type": "code",
      "source": [
        "# Sel 19: Menerapkan Regex Tanda Baca Berlebihan pada Contoh Teks Statis\n",
        "\n",
        "print(\"--- Menerapkan Regex Tanda Baca Berlebihan pada Contoh Teks Statis ---\")\n",
        "\n",
        "# texts_to_test_excess_punct sudah terdefinisi di Sel 18\n",
        "\n",
        "# Variasi 1: Mencari minimal dua tanda seru berturut-turut ATAU minimal dua tanda tanya berturut-turut\n",
        "print(\"\\n--- Variasi 1: Minimal 2 tanda seru ATAU minimal 2 tanda tanya ---\")\n",
        "regex_punct_v1 = r\"!{2,}|\\?{2,}\"\n",
        "# Penjelasan:\n",
        "# !{2,} : Mencocokkan karakter '!' dua kali atau lebih secara berturut-turut.\n",
        "# |      : Operator OR.\n",
        "# \\?{2,} : Mencocokkan karakter '?' dua kali atau lebih secara berturut-turut.\n",
        "#          Tanda tanya perlu di-escape (\\?) karena '?' adalah meta-karakter regex (0 atau 1 kali).\n",
        "for name, text in texts_to_test_excess_punct.items():\n",
        "    matches = re.findall(regex_punct_v1, text)\n",
        "    print(f\"Di '{name}': {matches}\")\n",
        "\n",
        "# Variasi 2: Mencari minimal dua karakter dari set [!?] secara berturut-turut\n",
        "print(\"\\n--- Variasi 2: Minimal 2 karakter dari set [!?] berturut-turut ---\")\n",
        "regex_punct_v2 = r\"[!?]{2,}\"\n",
        "# Penjelasan:\n",
        "# [!?]  : Kelas karakter, cocok dengan '!' ATAU '?'.\n",
        "# {2,}  : Kuantifier, mencocokkan kelas karakter sebelumnya dua kali atau lebih secara berturut-turut.\n",
        "# Pola ini lebih ringkas dan bisa menangkap kombinasi seperti \"!?\" atau \"?!\" jika muncul minimal 2 kali (misal, \"!?!!\").\n",
        "# Namun, jika kita ingin menangkap \"!??\" sebagai satu kesatuan, ini sudah benar.\n",
        "for name, text in texts_to_test_excess_punct.items():\n",
        "    matches = re.findall(regex_punct_v2, text)\n",
        "    print(f\"Di '{name}': {matches}\")\n",
        "\n",
        "# Variasi 3: Lebih spesifik, mencari urutan yang hanya terdiri dari ! dan ?, minimal panjang 2,\n",
        "#            dan memastikan tidak ada karakter lain di antaranya.\n",
        "#            Ini mirip dengan V2, tetapi kita bisa lebih eksplisit tentang apa yang kita anggap \"berlebihan\".\n",
        "#            Misalnya, kita bisa mencari urutan yang terdiri dari minimal X tanda seru/tanya,\n",
        "#            atau urutan yang memiliki proporsi tanda seru/tanya yang tinggi.\n",
        "#            Untuk tugas ini, V2 sudah cukup baik untuk menangkap \"urutan tanda seru/tanya\".\n",
        "#            Mari kita coba variasi yang memastikan ada setidaknya satu tanda seru DAN satu tanda tanya\n",
        "#            dalam urutan berlebihan tersebut, atau banyak tanda seru/tanya.\n",
        "\n",
        "print(\"\\n--- Variasi 3: Urutan campuran [!?] minimal 3, ATAU hanya !!!+, ATAU hanya ???+ ---\")\n",
        "# Ini lebih untuk eksplorasi, V2 mungkin lebih praktis.\n",
        "# Regex ini mencari:\n",
        "# 1. Urutan campuran ! dan ? yang panjangnya minimal 3 (e.g., !?!, !!?, ???!)\n",
        "# 2. Atau, tiga atau lebih tanda seru (!!!+)\n",
        "# 3. Atau, tiga atau lebih tanda tanya (???+)\n",
        "regex_punct_v3 = r\"(?:[!?]{3,})|(?:!{3,})|(?:\\?{3,})\"\n",
        "# Penjelasan:\n",
        "# (?:[!?]{3,}) : Grup non-penangkap, cocok dengan 3 atau lebih karakter dari set [!?]. Ini akan menangkap \"!!!\", \"???\", \"!?!\", \"??!\", dll.\n",
        "# |(?:!{3,})   : ATAU 3 atau lebih tanda seru.\n",
        "# |(?:\\?{3,})  : ATAU 3 atau lebih tanda tanya.\n",
        "# Sebenarnya, (?:[!?]{3,}) sudah mencakup (?:!{3,}) dan (?:\\?{3,}). Jadi, kita bisa sederhanakan.\n",
        "# Mari kita buat V3 lebih fokus pada \"minimal 3 tanda baca jenis ! atau ? secara berurutan\".\n",
        "regex_punct_v3_simplified = r\"[!?]{3,}\" # Minimal 3 tanda seru/tanya/kombinasi berturut-turut\n",
        "\n",
        "print(\"Menggunakan V3 Simplified: [!?]{3,} (Minimal 3 tanda ! atau ? atau kombinasi)\")\n",
        "for name, text in texts_to_test_excess_punct.items():\n",
        "    matches = re.findall(regex_punct_v3_simplified, text)\n",
        "    print(f\"Di '{name}': {matches}\")\n",
        "\n",
        "\n",
        "# Variasi 4: Menggunakan lookarounds untuk menemukan tanda baca yang \"berlebihan\"\n",
        "#            tanpa harus menangkap seluruh urutannya, atau untuk mengidentifikasi\n",
        "#            konteks di sekitarnya. Ini bisa jadi terlalu kompleks untuk kebutuhan saat ini.\n",
        "#            Untuk tugas ini, menangkap urutan berlebihannya (seperti di V2 atau V3 simplified) sudah cukup.\n",
        "\n",
        "# Kita akan anggap regex_punct_v2 ([!?]{2,}) sebagai regex yang cukup baik dan umum.\n",
        "# Atau regex_punct_v3_simplified ([!?]{3,}) jika kita ingin lebih ketat (minimal 3).\n",
        "# Mari kita gunakan [!?]{2,} untuk penerapan ke dataset karena lebih sensitif.\n",
        "\n",
        "print(\"\\nPenerapan regex tanda baca berlebihan pada contoh teks statis selesai.\")"
      ],
      "metadata": {
        "colab": {
          "base_uri": "https://localhost:8080/"
        },
        "id": "zpl4AtuQ-GGi",
        "outputId": "52d02d37-cc92-4c11-f60d-f4e5bee8690e"
      },
      "execution_count": null,
      "outputs": [
        {
          "output_type": "stream",
          "name": "stdout",
          "text": [
            "--- Menerapkan Regex Tanda Baca Berlebihan pada Contoh Teks Statis ---\n",
            "\n",
            "--- Variasi 1: Minimal 2 tanda seru ATAU minimal 2 tanda tanya ---\n",
            "Di 'Excess Punct 1': ['!!!']\n",
            "Di 'Excess Punct 2': ['!!!', '???']\n",
            "Di 'Excess Punct 3 (Normal)': []\n",
            "Di 'No Excess Punct': []\n",
            "Di 'Mixed Excess Punct': ['!!!']\n",
            "\n",
            "--- Variasi 2: Minimal 2 karakter dari set [!?] berturut-turut ---\n",
            "Di 'Excess Punct 1': ['!!!', '?!?']\n",
            "Di 'Excess Punct 2': ['!!!', '???']\n",
            "Di 'Excess Punct 3 (Normal)': []\n",
            "Di 'No Excess Punct': []\n",
            "Di 'Mixed Excess Punct': ['?!?!?!', '!!!']\n",
            "\n",
            "--- Variasi 3: Urutan campuran [!?] minimal 3, ATAU hanya !!!+, ATAU hanya ???+ ---\n",
            "Menggunakan V3 Simplified: [!?]{3,} (Minimal 3 tanda ! atau ? atau kombinasi)\n",
            "Di 'Excess Punct 1': ['!!!', '?!?']\n",
            "Di 'Excess Punct 2': ['!!!', '???']\n",
            "Di 'Excess Punct 3 (Normal)': []\n",
            "Di 'No Excess Punct': []\n",
            "Di 'Mixed Excess Punct': ['?!?!?!', '!!!']\n",
            "\n",
            "Penerapan regex tanda baca berlebihan pada contoh teks statis selesai.\n"
          ]
        }
      ]
    },
    {
      "cell_type": "markdown",
      "source": [
        "### 7.3 Menerapkan Regex Tanda Baca Berlebihan pada Sampel dari Dataset dan Mengumpulkan Data untuk Visualisasi\n",
        "\n",
        "Kita akan menerapkan regex `[!?]{2,}` pada sampel email dari `df_email` untuk menemukan pola tanda baca berlebihan. Kita juga akan mengumpulkan data ini untuk persiapan visualisasi."
      ],
      "metadata": {
        "id": "CPiO1UaM-VQF"
      }
    },
    {
      "cell_type": "code",
      "source": [
        "# Sel 20: Menerapkan Regex Tanda Baca Berlebihan pada Sampel DataFrame dan Mengumpulkan Data\n",
        "\n",
        "print(\"\\n--- Menerapkan Regex Tanda Baca Berlebihan pada Sampel Dataset ---\")\n",
        "\n",
        "# Definisikan regex yang akan kita gunakan (berdasarkan Sel 19, V2 adalah pilihan yang baik)\n",
        "regex_excess_punctuation = r\"[!?]{2,}\"\n",
        "\n",
        "# Pastikan df_email, kolom_teks, dan kolom_label sudah terdefinisi\n",
        "if ('df_email' in globals() and df_email is not None and not df_email.empty and\n",
        "    'kolom_teks' in globals() and kolom_teks in df_email.columns and\n",
        "    'kolom_label' in globals() and kolom_label in df_email.columns):\n",
        "\n",
        "    # Data untuk menyimpan semua pola tanda baca berlebihan yang ditemukan\n",
        "    all_found_excess_punctuation = []\n",
        "\n",
        "    # Untuk melihat beberapa contoh email dengan pola yang ditemukan\n",
        "    found_punct_examples = {}\n",
        "\n",
        "    # Hitung berapa banyak email spam dan ham yang mengandung pola ini\n",
        "    spam_with_excess_punct_count = 0\n",
        "    ham_with_excess_punct_count = 0\n",
        "\n",
        "    # Total email spam dan ham dalam sampel (untuk persentase nanti)\n",
        "    total_spam_in_sample = 0\n",
        "    total_ham_in_sample = 0\n",
        "\n",
        "    num_samples = min(50, len(df_email)) # Ambil hingga 50 sampel\n",
        "    sample_df_punct = df_email.sample(n=num_samples, random_state=567) if len(df_email) > num_samples else df_email\n",
        "\n",
        "    print(f\"Menganalisis {len(sample_df_punct)} sampel email dari DataFrame untuk tanda baca berlebihan...\")\n",
        "\n",
        "    for index, row in sample_df_punct.iterrows():\n",
        "        email_text_content = str(row[kolom_teks])\n",
        "        label_val = row[kolom_label] # Asumsi label 1 untuk spam, 0 untuk ham\n",
        "\n",
        "        # Update total spam/ham dalam sampel\n",
        "        if label_val == 1:\n",
        "            total_spam_in_sample += 1\n",
        "        elif label_val == 0:\n",
        "            total_ham_in_sample += 1\n",
        "\n",
        "        matches = re.findall(regex_excess_punctuation, email_text_content)\n",
        "\n",
        "        if matches:\n",
        "            all_found_excess_punctuation.extend(matches) # Kumpulkan semua match\n",
        "\n",
        "            # Simpan contoh untuk ditampilkan (misalnya, 5 contoh pertama)\n",
        "            if len(found_punct_examples) < 5:\n",
        "                found_punct_examples[f\"Email Index {index} (Label: {label_val})\"] = {\n",
        "                    \"text_snippet\": email_text_content[:200] + \"...\", # Cuplikan teks\n",
        "                    \"patterns_found\": list(set(matches)) # Pola unik yang ditemukan di email ini\n",
        "                }\n",
        "\n",
        "            # Hitung email yang mengandung pola ini per kategori\n",
        "            if label_val == 1: # Spam\n",
        "                spam_with_excess_punct_count += 1\n",
        "            elif label_val == 0: # Ham\n",
        "                ham_with_excess_punct_count += 1\n",
        "\n",
        "    # Cetak beberapa contoh email dengan pola yang ditemukan\n",
        "    if found_punct_examples:\n",
        "        print(\"\\n--- Contoh Email dengan Tanda Baca Berlebihan Ditemukan ---\")\n",
        "        for source, data in found_punct_examples.items():\n",
        "            print(f\"\\n{source}:\")\n",
        "            print(f\"  Cuplikan: {data['text_snippet']}\")\n",
        "            print(f\"  Pola Ditemukan: {data['patterns_found']}\")\n",
        "    else:\n",
        "        print(\"\\nTidak ada tanda baca berlebihan ditemukan dalam sampel yang diproses untuk ditampilkan sebagai contoh.\")\n",
        "\n",
        "    # Informasi ringkasan\n",
        "    print(f\"\\nTotal pola tanda baca berlebihan ditemukan (semua kemunculan): {len(all_found_excess_punctuation)}\")\n",
        "    if total_spam_in_sample > 0:\n",
        "        percentage_spam_with_punct = (spam_with_excess_punct_count / total_spam_in_sample) * 100 if total_spam_in_sample > 0 else 0\n",
        "        print(f\"Jumlah email SPAM (dari sampel) yang mengandung tanda baca berlebihan: {spam_with_excess_punct_count} dari {total_spam_in_sample} ({percentage_spam_with_punct:.2f}%)\")\n",
        "    else:\n",
        "        print(\"Tidak ada email SPAM dalam sampel untuk dianalisis.\")\n",
        "\n",
        "    if total_ham_in_sample > 0:\n",
        "        percentage_ham_with_punct = (ham_with_excess_punct_count / total_ham_in_sample) * 100 if total_ham_in_sample > 0 else 0\n",
        "        print(f\"Jumlah email HAM (dari sampel) yang mengandung tanda baca berlebihan: {ham_with_excess_punct_count} dari {total_ham_in_sample} ({percentage_ham_with_punct:.2f}%)\")\n",
        "    else:\n",
        "        print(\"Tidak ada email HAM dalam sampel untuk dianalisis.\")\n",
        "\n",
        "    if not all_found_excess_punctuation:\n",
        "        print(\"\\nTidak ada pola tanda baca berlebihan yang ditemukan dalam sampel email yang dianalisis.\")\n",
        "\n",
        "else:\n",
        "    print(\"\\nGAGAL menjalankan analisis tanda baca berlebihan pada DataFrame.\")\n",
        "    # ... (tambahkan pengecekan variabel lain jika perlu) ...\n",
        "\n",
        "print(\"\\nPengumpulan data tanda baca berlebihan dari sampel DataFrame selesai.\")"
      ],
      "metadata": {
        "colab": {
          "base_uri": "https://localhost:8080/"
        },
        "id": "hS77sNlC-VCF",
        "outputId": "5cd15917-e478-44d8-9662-749ea448e9f9"
      },
      "execution_count": null,
      "outputs": [
        {
          "output_type": "stream",
          "name": "stdout",
          "text": [
            "\n",
            "--- Menerapkan Regex Tanda Baca Berlebihan pada Sampel Dataset ---\n",
            "Menganalisis 50 sampel email dari DataFrame untuk tanda baca berlebihan...\n",
            "\n",
            "Tidak ada tanda baca berlebihan ditemukan dalam sampel yang diproses untuk ditampilkan sebagai contoh.\n",
            "\n",
            "Total pola tanda baca berlebihan ditemukan (semua kemunculan): 0\n",
            "Jumlah email SPAM (dari sampel) yang mengandung tanda baca berlebihan: 0 dari 33 (0.00%)\n",
            "Jumlah email HAM (dari sampel) yang mengandung tanda baca berlebihan: 0 dari 17 (0.00%)\n",
            "\n",
            "Tidak ada pola tanda baca berlebihan yang ditemukan dalam sampel email yang dianalisis.\n",
            "\n",
            "Pengumpulan data tanda baca berlebihan dari sampel DataFrame selesai.\n"
          ]
        }
      ]
    },
    {
      "cell_type": "markdown",
      "source": [
        "### 7.4 Visualisasi untuk Tanda Baca Berlebihan\n",
        "\n",
        "Berdasarkan data yang dikumpulkan, kita akan mencoba memvisualisasikan temuan terkait tanda baca berlebihan."
      ],
      "metadata": {
        "id": "p79FLmzb-lm_"
      }
    },
    {
      "cell_type": "code",
      "source": [
        "# Sel 21: Visualisasi untuk Tanda Baca Berlebihan\n",
        "\n",
        "import matplotlib.pyplot as plt\n",
        "from collections import Counter # Meskipun mungkin tidak terpakai jika tidak ada data\n",
        "\n",
        "print(\"--- Visualisasi untuk Tanda Baca Berlebihan ---\")\n",
        "\n",
        "# Pastikan variabel yang relevan dari Sel 20 sudah terdefinisi\n",
        "# Variabel utama yang kita perlukan adalah:\n",
        "# all_found_excess_punctuation, spam_with_excess_punct_count, ham_with_excess_punct_count,\n",
        "# total_spam_in_sample, total_ham_in_sample\n",
        "\n",
        "if ('all_found_excess_punctuation' in globals() and\n",
        "    'spam_with_excess_punct_count' in globals() and\n",
        "    'ham_with_excess_punct_count' in globals() and\n",
        "    'total_spam_in_sample' in globals() and\n",
        "    'total_ham_in_sample' in globals()):\n",
        "\n",
        "    if all_found_excess_punctuation:\n",
        "        # Jika ada data, kita bisa membuat visualisasi frekuensi pola yang ditemukan\n",
        "        # atau perbandingan persentase email spam/ham yang mengandung pola tersebut.\n",
        "\n",
        "        # 1. Frekuensi Pola Tanda Baca Berlebihan yang Ditemukan\n",
        "        punct_pattern_counts = Counter(all_found_excess_punctuation)\n",
        "        top_n_punct = 10 # Ambil N pola teratas\n",
        "        most_common_punct_patterns = punct_pattern_counts.most_common(top_n_punct)\n",
        "\n",
        "        if most_common_punct_patterns:\n",
        "            patterns, counts = zip(*most_common_punct_patterns)\n",
        "\n",
        "            plt.figure(figsize=(10, 5))\n",
        "            plt.bar(patterns, counts, color='lightcoral')\n",
        "            plt.xlabel(\"Pola Tanda Baca Berlebihan\")\n",
        "            plt.ylabel(\"Frekuensi Kemunculan\")\n",
        "            plt.title(f\"Top {top_n_punct} Pola Tanda Baca Berlebihan Ditemukan (dari Sampel {num_samples} Email)\")\n",
        "            plt.xticks(rotation=45, ha=\"right\")\n",
        "            plt.tight_layout()\n",
        "            plt.show()\n",
        "        else:\n",
        "            print(\"Meskipun list 'all_found_excess_punctuation' ada, tidak ada pola yang cukup signifikan untuk divisualisasikan frekuensinya.\")\n",
        "\n",
        "        # 2. Perbandingan Persentase Email Spam vs Ham yang Mengandung Pola\n",
        "        labels = ['SPAM', 'HAM']\n",
        "        counts_with_pattern = [spam_with_excess_punct_count, ham_with_excess_punct_count]\n",
        "        totals_in_sample = [total_spam_in_sample, total_ham_in_sample]\n",
        "\n",
        "        # Hanya buat plot jika ada email di sampel untuk setidaknya satu kategori\n",
        "        if total_spam_in_sample > 0 or total_ham_in_sample > 0:\n",
        "            percentages = []\n",
        "            actual_counts_for_plot = []\n",
        "            actual_labels_for_plot = []\n",
        "\n",
        "            if total_spam_in_sample > 0:\n",
        "                percentages.append((spam_with_excess_punct_count / total_spam_in_sample) * 100)\n",
        "                actual_counts_for_plot.append(spam_with_excess_punct_count)\n",
        "                actual_labels_for_plot.append(f\"SPAM\\n({spam_with_excess_punct_count}/{total_spam_in_sample})\")\n",
        "            else: # Jika tidak ada spam di sampel, kita bisa skip atau beri nilai 0\n",
        "                percentages.append(0)\n",
        "                actual_counts_for_plot.append(0)\n",
        "                actual_labels_for_plot.append(f\"SPAM\\n(0/0)\")\n",
        "\n",
        "\n",
        "            if total_ham_in_sample > 0:\n",
        "                percentages.append((ham_with_excess_punct_count / total_ham_in_sample) * 100)\n",
        "                actual_counts_for_plot.append(ham_with_excess_punct_count)\n",
        "                actual_labels_for_plot.append(f\"HAM\\n({ham_with_excess_punct_count}/{total_ham_in_sample})\")\n",
        "            else: # Jika tidak ada ham di sampel\n",
        "                percentages.append(0)\n",
        "                actual_counts_for_plot.append(0)\n",
        "                actual_labels_for_plot.append(f\"HAM\\n(0/0)\")\n",
        "\n",
        "            plt.figure(figsize=(8, 6))\n",
        "            bars = plt.bar(actual_labels_for_plot, percentages, color=['lightcoral', 'lightskyblue'])\n",
        "            plt.ylabel(\"Persentase Email (%)\")\n",
        "            plt.title(f\"Persentase Email Mengandung Tanda Baca Berlebihan (dari Sampel {num_samples} Email)\")\n",
        "            plt.ylim(0, 100) # Persentase dari 0 hingga 100\n",
        "\n",
        "            # Tambahkan teks persentase di atas bar\n",
        "            for i, bar in enumerate(bars):\n",
        "                yval = bar.get_height()\n",
        "                plt.text(bar.get_x() + bar.get_width()/2.0, yval + 2, f'{percentages[i]:.2f}%', ha='center', va='bottom')\n",
        "\n",
        "            plt.tight_layout()\n",
        "            plt.show()\n",
        "        else:\n",
        "            print(\"Tidak ada email spam atau ham dalam sampel untuk membuat plot perbandingan.\")\n",
        "\n",
        "    else:\n",
        "        print(\"Tidak ada data tanda baca berlebihan yang ditemukan di Sel 20 untuk divisualisasikan.\")\n",
        "        print(f\"(Jumlah email SPAM dengan pola: {spam_with_excess_punct_count} dari {total_spam_in_sample})\")\n",
        "        print(f\"(Jumlah email HAM dengan pola: {ham_with_excess_punct_count} dari {total_ham_in_sample})\")\n",
        "\n",
        "else:\n",
        "    print(\"\\nVariabel yang diperlukan untuk visualisasi tidak terdefinisi. Pastikan Sel 20 sudah dijalankan.\")\n",
        "\n",
        "print(\"\\nProses untuk Goal 5 (Tanda Baca Berlebihan) selesai.\")"
      ],
      "metadata": {
        "colab": {
          "base_uri": "https://localhost:8080/"
        },
        "id": "DoinJKGF-mcq",
        "outputId": "f8f918e3-d1c1-40ec-dd01-0a87381c7b35"
      },
      "execution_count": null,
      "outputs": [
        {
          "output_type": "stream",
          "name": "stdout",
          "text": [
            "--- Visualisasi untuk Tanda Baca Berlebihan ---\n",
            "Tidak ada data tanda baca berlebihan yang ditemukan di Sel 20 untuk divisualisasikan.\n",
            "(Jumlah email SPAM dengan pola: 0 dari 33)\n",
            "(Jumlah email HAM dengan pola: 0 dari 17)\n",
            "\n",
            "Proses untuk Goal 5 (Tanda Baca Berlebihan) selesai.\n"
          ]
        }
      ]
    },
    {
      "cell_type": "markdown",
      "source": [
        "## 8. **Downstream Analysis**: Analisis Frekuensi Kata Kunci Spam pada Seluruh Dataset\n",
        "\n",
        "Setelah melakukan eksplorasi dengan regex, kita akan melakukan analisis lebih lanjut pada temuan dari Goal 4 (Kata Kunci Spam). Kita akan menerapkan pencarian kata kunci pada seluruh dataset `df_email` untuk mendapatkan gambaran yang lebih komprehensif dan memvisualisasikan perbandingan frekuensi kata kunci antara email spam dan ham.\n",
        "\n",
        "### 8.1 Ekstraksi Kata Kunci dari Seluruh Dataset"
      ],
      "metadata": {
        "id": "xmMEpALh-8pq"
      }
    },
    {
      "cell_type": "code",
      "source": [
        "# Sel 22: Ekstraksi Kata Kunci dari Seluruh Dataset\n",
        "\n",
        "print(\"\\n--- Downstream Analysis: Ekstraksi Kata Kunci dari Seluruh Dataset ---\")\n",
        "\n",
        "# Pastikan df_email, kolom_teks, kolom_label, dan regex_spam_keywords_pattern_string sudah terdefinisi\n",
        "if ('df_email' in globals() and df_email is not None and not df_email.empty and\n",
        "    'kolom_teks' in globals() and kolom_teks in df_email.columns and\n",
        "    'kolom_label' in globals() and kolom_label in df_email.columns and\n",
        "    'regex_spam_keywords_pattern_string' in globals()):\n",
        "\n",
        "    # Data untuk menyimpan semua kata kunci yang ditemukan per kategori (spam/ham) dari seluruh dataset\n",
        "    all_keywords_in_spam_full = []\n",
        "    all_keywords_in_ham_full = []\n",
        "\n",
        "    # Hitung total email spam dan ham di seluruh dataset\n",
        "    total_spam_full_dataset = df_email[df_email[kolom_label] == 1].shape[0]\n",
        "    total_ham_full_dataset = df_email[df_email[kolom_label] == 0].shape[0]\n",
        "\n",
        "    print(f\"Menganalisis {len(df_email)} email dari seluruh DataFrame untuk kata kunci spam...\")\n",
        "\n",
        "    for index, row in df_email.iterrows(): # Iterasi melalui seluruh DataFrame\n",
        "        email_text_content = str(row[kolom_teks])\n",
        "        label_val = row[kolom_label]\n",
        "\n",
        "        matches = re.findall(regex_spam_keywords_pattern_string, email_text_content, re.IGNORECASE)\n",
        "\n",
        "        if matches:\n",
        "            normalized_matches = [match.lower() for match in matches]\n",
        "\n",
        "            if label_val == 1: # Spam\n",
        "                all_keywords_in_spam_full.extend(normalized_matches)\n",
        "            elif label_val == 0: # Ham\n",
        "                all_keywords_in_ham_full.extend(normalized_matches)\n",
        "\n",
        "    print(f\"\\nEkstraksi dari seluruh dataset selesai.\")\n",
        "    print(f\"Total kata kunci ditemukan di {total_spam_full_dataset} email SPAM (seluruh dataset): {len(all_keywords_in_spam_full)}\")\n",
        "    print(f\"Total kata kunci ditemukan di {total_ham_full_dataset} email HAM (seluruh dataset): {len(all_keywords_in_ham_full)}\")\n",
        "\n",
        "    if not all_keywords_in_spam_full and not all_keywords_in_ham_full:\n",
        "        print(\"\\nTidak ada kata kunci spam dari daftar yang ditemukan dalam seluruh dataset.\")\n",
        "\n",
        "else:\n",
        "    print(\"\\nGAGAL menjalankan ekstraksi kata kunci dari seluruh dataset.\")\n",
        "    # ... (tambahkan pengecekan variabel lain jika perlu) ...\n",
        "\n",
        "print(\"\\nProses ekstraksi kata kunci untuk downstream analysis selesai.\")"
      ],
      "metadata": {
        "colab": {
          "base_uri": "https://localhost:8080/"
        },
        "id": "WylZCpfr-9ru",
        "outputId": "33c36ae7-4bcc-430b-fb99-dc234fa7f451"
      },
      "execution_count": null,
      "outputs": [
        {
          "output_type": "stream",
          "name": "stdout",
          "text": [
            "\n",
            "--- Downstream Analysis: Ekstraksi Kata Kunci dari Seluruh Dataset ---\n",
            "Menganalisis 254 email dari seluruh DataFrame untuk kata kunci spam...\n",
            "\n",
            "Ekstraksi dari seluruh dataset selesai.\n",
            "Total kata kunci ditemukan di 181 email SPAM (seluruh dataset): 135\n",
            "Total kata kunci ditemukan di 73 email HAM (seluruh dataset): 20\n",
            "\n",
            "Proses ekstraksi kata kunci untuk downstream analysis selesai.\n"
          ]
        }
      ]
    },
    {
      "cell_type": "markdown",
      "source": [
        "### 8.2 Analisis Frekuensi dan Visualisasi Perbandingan Kata Kunci (Seluruh Dataset)"
      ],
      "metadata": {
        "id": "sk7XfPGP_Iw_"
      }
    },
    {
      "cell_type": "code",
      "source": [
        "# Sel 23: Analisis Frekuensi dan Visualisasi Perbandingan Kata Kunci (Seluruh Dataset)\n",
        "\n",
        "import matplotlib.pyplot as plt\n",
        "from collections import Counter\n",
        "import pandas as pd # Untuk membuat DataFrame yang memudahkan plotting perbandingan\n",
        "import numpy as np # Untuk pengaturan posisi bar di plot\n",
        "\n",
        "print(\"--- Downstream Analysis: Analisis Frekuensi & Visualisasi Kata Kunci (Seluruh Dataset) ---\")\n",
        "\n",
        "# Pastikan all_keywords_in_spam_full dan all_keywords_in_ham_full sudah terdefinisi dari Sel 22\n",
        "if ('all_keywords_in_spam_full' in globals() and 'all_keywords_in_ham_full' in globals() and\n",
        "    (all_keywords_in_spam_full or all_keywords_in_ham_full)):\n",
        "\n",
        "    # --- Frekuensi Kata Kunci di Email SPAM (Seluruh Dataset) ---\n",
        "    if all_keywords_in_spam_full:\n",
        "        spam_keyword_counts_full = Counter(all_keywords_in_spam_full)\n",
        "        top_n_spam_full = 15 # Ambil lebih banyak kata kunci\n",
        "        most_common_spam_full = spam_keyword_counts_full.most_common(top_n_spam_full)\n",
        "        print(f\"\\n{top_n_spam_full} Kata Kunci Teratas di Email SPAM (Seluruh Dataset):\")\n",
        "        for keyword, count in most_common_spam_full:\n",
        "            print(f\"- {keyword}: {count}\")\n",
        "    else:\n",
        "        spam_keyword_counts_full = Counter() # Counter kosong jika tidak ada data\n",
        "        print(\"\\nTidak ada kata kunci ditemukan di email SPAM (seluruh dataset).\")\n",
        "\n",
        "    # --- Frekuensi Kata Kunci di Email HAM (Seluruh Dataset) ---\n",
        "    if all_keywords_in_ham_full:\n",
        "        ham_keyword_counts_full = Counter(all_keywords_in_ham_full)\n",
        "        top_n_ham_full = 15\n",
        "        most_common_ham_full = ham_keyword_counts_full.most_common(top_n_ham_full)\n",
        "        print(f\"\\n{top_n_ham_full} Kata Kunci Teratas di Email HAM (Seluruh Dataset):\")\n",
        "        for keyword, count in most_common_ham_full:\n",
        "            print(f\"- {keyword}: {count}\")\n",
        "    else:\n",
        "        ham_keyword_counts_full = Counter() # Counter kosong jika tidak ada data\n",
        "        print(\"\\nTidak ada kata kunci ditemukan di email HAM (seluruh dataset).\")\n",
        "\n",
        "    # --- Persiapan Data untuk Plot Perbandingan ---\n",
        "    # Gabungkan semua kata kunci unik dari spam dan ham untuk sumbu X plot perbandingan\n",
        "    all_unique_keywords = sorted(list(set(spam_keyword_counts_full.keys()) | set(ham_keyword_counts_full.keys())))\n",
        "\n",
        "    # Ambil N kata kunci teratas berdasarkan frekuensi total (spam + ham) atau yang paling membedakan\n",
        "    # Untuk contoh ini, kita ambil N kata kunci teratas dari spam dan N teratas dari ham, lalu gabungkan set uniknya\n",
        "\n",
        "    # Ambil kata kunci dari spam teratas dan ham teratas\n",
        "    top_spam_keys = [k[0] for k in most_common_spam_full[:10]] if 'most_common_spam_full' in globals() and most_common_spam_full else []\n",
        "    top_ham_keys = [k[0] for k in most_common_ham_full[:10]] if 'most_common_ham_full' in globals() and most_common_ham_full else []\n",
        "\n",
        "    # Gabungkan dan ambil kata kunci unik untuk dibandingkan\n",
        "    comparison_keywords = sorted(list(set(top_spam_keys + top_ham_keys)))\n",
        "\n",
        "    if not comparison_keywords and all_unique_keywords: # Fallback jika top_spam/ham kosong tapi ada data\n",
        "        # Ambil N kata kunci teratas berdasarkan frekuensi gabungan\n",
        "        combined_counts = spam_keyword_counts_full + ham_keyword_counts_full\n",
        "        comparison_keywords = [k[0] for k in combined_counts.most_common(10)]\n",
        "\n",
        "\n",
        "    if comparison_keywords:\n",
        "        spam_comparison_counts = [spam_keyword_counts_full.get(kw, 0) for kw in comparison_keywords]\n",
        "        ham_comparison_counts = [ham_keyword_counts_full.get(kw, 0) for kw in comparison_keywords]\n",
        "\n",
        "        # Membuat DataFrame untuk memudahkan plotting\n",
        "        df_comparison = pd.DataFrame({\n",
        "            'KataKunci': comparison_keywords,\n",
        "            'Frekuensi Spam': spam_comparison_counts,\n",
        "            'Frekuensi Ham': ham_comparison_counts\n",
        "        })\n",
        "\n",
        "        print(\"\\n--- Data Perbandingan Frekuensi Kata Kunci (Teratas Gabungan) ---\")\n",
        "        print(df_comparison)\n",
        "\n",
        "        # --- Visualisasi Side-by-Side Bar Chart ---\n",
        "        if not df_comparison.empty:\n",
        "            x = np.arange(len(df_comparison['KataKunci']))  # Lokasi label\n",
        "            width = 0.35  # Lebar bar\n",
        "\n",
        "            fig, ax = plt.subplots(figsize=(15, 7)) # Ukuran plot lebih besar\n",
        "            rects1 = ax.bar(x - width/2, df_comparison['Frekuensi Spam'], width, label='SPAM', color='salmon')\n",
        "            rects2 = ax.bar(x + width/2, df_comparison['Frekuensi Ham'], width, label='HAM', color='skyblue')\n",
        "\n",
        "            # Tambahkan teks, label, judul\n",
        "            ax.set_ylabel('Frekuensi')\n",
        "            ax.set_title('Perbandingan Frekuensi Kata Kunci di Email SPAM vs HAM (Seluruh Dataset)')\n",
        "            ax.set_xticks(x)\n",
        "            ax.set_xticklabels(df_comparison['KataKunci'], rotation=45, ha=\"right\")\n",
        "            ax.legend()\n",
        "\n",
        "            # Fungsi untuk menambahkan label angka di atas bar (opsional, bisa ramai jika banyak bar)\n",
        "            def autolabel(rects):\n",
        "                for rect in rects:\n",
        "                    height = rect.get_height()\n",
        "                    if height > 0: # Hanya tampilkan label jika frekuensi > 0\n",
        "                        ax.annotate('{}'.format(height),\n",
        "                                    xy=(rect.get_x() + rect.get_width() / 2, height),\n",
        "                                    xytext=(0, 3),  # 3 points vertical offset\n",
        "                                    textcoords=\"offset points\",\n",
        "                                    ha='center', va='bottom', fontsize=8)\n",
        "\n",
        "            autolabel(rects1)\n",
        "            autolabel(rects2)\n",
        "\n",
        "            fig.tight_layout()\n",
        "            plt.show()\n",
        "        else:\n",
        "            print(\"\\nTidak ada data yang cukup untuk membuat plot perbandingan kata kunci.\")\n",
        "\n",
        "    else:\n",
        "        print(\"\\nTidak ada kata kunci yang signifikan untuk dibandingkan frekuensinya.\")\n",
        "else:\n",
        "    print(\"\\nTidak ada data kata kunci yang dikumpulkan dari Sel 22 untuk dianalisis.\")\n",
        "\n",
        "print(\"\\nDownstream analysis dan visualisasi selesai.\")"
      ],
      "metadata": {
        "colab": {
          "base_uri": "https://localhost:8080/",
          "height": 1000
        },
        "id": "YRogy1IU_Jkf",
        "outputId": "16a1a2b6-2824-454c-e250-4bbd3625c897"
      },
      "execution_count": null,
      "outputs": [
        {
          "output_type": "stream",
          "name": "stdout",
          "text": [
            "--- Downstream Analysis: Analisis Frekuensi & Visualisasi Kata Kunci (Seluruh Dataset) ---\n",
            "\n",
            "15 Kata Kunci Teratas di Email SPAM (Seluruh Dataset):\n",
            "- uang: 42\n",
            "- gratis: 30\n",
            "- klik: 20\n",
            "- hadiah: 18\n",
            "- penawaran: 8\n",
            "- investasi: 4\n",
            "- selamat: 3\n",
            "- segera: 3\n",
            "- bonus: 2\n",
            "- penting: 2\n",
            "- termurah: 1\n",
            "- promo: 1\n",
            "- keuntungan: 1\n",
            "\n",
            "15 Kata Kunci Teratas di Email HAM (Seluruh Dataset):\n",
            "- klik: 10\n",
            "- selamat: 9\n",
            "- uang: 1\n",
            "\n",
            "--- Data Perbandingan Frekuensi Kata Kunci (Teratas Gabungan) ---\n",
            "   KataKunci  Frekuensi Spam  Frekuensi Ham\n",
            "0      bonus               2              0\n",
            "1     gratis              30              0\n",
            "2     hadiah              18              0\n",
            "3  investasi               4              0\n",
            "4       klik              20             10\n",
            "5  penawaran               8              0\n",
            "6    penting               2              0\n",
            "7     segera               3              0\n",
            "8    selamat               3              9\n",
            "9       uang              42              1\n"
          ]
        },
        {
          "output_type": "display_data",
          "data": {
            "text/plain": [
              "<Figure size 1500x700 with 1 Axes>"
            ],
            "image/png": "[encoded data removed]"
          },
          "metadata": {}
        },
        {
          "output_type": "stream",
          "name": "stdout",
          "text": [
            "\n",
            "Downstream analysis dan visualisasi selesai.\n"
          ]
        }
      ]
    },
    {
      "cell_type": "markdown",
      "source": [],
      "metadata": {
        "id": "Lua4be0D_-JA"
      }
    },
    {
      "cell_type": "markdown",
      "source": [
        "# **Kesimpulan Akhir**\n",
        "\n",
        "Analisis Regular Expressions (Regex) pada dataset email spam Indonesia menunjukkan perbedaan karakteristik yang jelas antara email spam dan ham. Ditemukan bahwa email yang teridentifikasi sebagai spam secara signifikan lebih sering mengandung alamat email, nomor telepon, dan URL dibandingkan email ham. Selain itu, kata kunci spesifik yang sering diasosiasikan dengan spam dan fitur stilistik seperti penggunaan huruf kapital berlebih juga menunjukkan frekuensi kemunculan yang jauh lebih tinggi pada kategori spam. Temuan ini mengindikasikan bahwa pola-pola yang diekstraksi menggunakan Regex ini merupakan indikator kuat dan dapat menjadi fitur yang berharga untuk membedakan serta mengklasifikasikan email spam dan ham secara otomatis."
      ],
      "metadata": {
        "id": "_sFRJvpXC3KZ"
      }
    }
  ]
}